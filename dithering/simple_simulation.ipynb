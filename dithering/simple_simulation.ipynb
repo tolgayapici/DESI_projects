{
 "cells": [
  {
   "cell_type": "markdown",
   "metadata": {},
   "source": [
    "General DESI related packages"
   ]
  },
  {
   "cell_type": "code",
   "execution_count": 1,
   "metadata": {},
   "outputs": [
    {
     "name": "stdout",
     "output_type": "stream",
     "text": [
      "WARNING:log.py:19:get_logger: desispec.log is deprecated, please use desiutil.log.\n",
      "WARNING:log.py:19:get_logger: desispec.log is deprecated, please use desiutil.log.\n"
     ]
    }
   ],
   "source": [
    "# general packages\n",
    "import os\n",
    "import numpy as np\n",
    "import matplotlib\n",
    "import matplotlib.pyplot as plt\n",
    "\n",
    "import specsim\n",
    "import specsim.quickspecsim as qspecsim\n",
    "import specsim.instrument as inst\n",
    "import specsim.source as src\n",
    "import specsim.config as conf\n",
    "import specsim.fiberloss as floss\n",
    "import specsim.observation as obs\n",
    "import specsim.simulator as sim\n",
    "import specsim.atmosphere as atm\n",
    "\n",
    "from desisim import io\n",
    "from desisim import obs\n",
    "\n",
    "import astropy.units as u\n",
    "import astropy.table"
   ]
  },
  {
   "cell_type": "code",
   "execution_count": 4,
   "metadata": {},
   "outputs": [
    {
     "ename": "AttributeError",
     "evalue": "'NoneType' object has no attribute 'path'",
     "output_type": "error",
     "traceback": [
      "\u001b[0;31m---------------------------------------------------------------------------\u001b[0m",
      "\u001b[0;31mAttributeError\u001b[0m                            Traceback (most recent call last)",
      "\u001b[0;32m<ipython-input-4-df07b4805ad3>\u001b[0m in \u001b[0;36m<module>\u001b[0;34m()\u001b[0m\n\u001b[1;32m      7\u001b[0m \u001b[0;31m# generate all relevant configurations for future use\u001b[0m\u001b[0;34m\u001b[0m\u001b[0;34m\u001b[0m\u001b[0m\n\u001b[1;32m      8\u001b[0m \u001b[0;32mfor\u001b[0m \u001b[0mconfig\u001b[0m \u001b[0;32min\u001b[0m \u001b[0mdesi_configs\u001b[0m\u001b[0;34m:\u001b[0m\u001b[0;34m\u001b[0m\u001b[0m\n\u001b[0;32m----> 9\u001b[0;31m     \u001b[0mdesi_models\u001b[0m\u001b[0;34m[\u001b[0m\u001b[0mconfig\u001b[0m\u001b[0;34m]\u001b[0m \u001b[0;34m=\u001b[0m \u001b[0mdesi_model\u001b[0m\u001b[0;34m(\u001b[0m\u001b[0mconfig\u001b[0m\u001b[0;34m)\u001b[0m\u001b[0;34m\u001b[0m\u001b[0m\n\u001b[0m\u001b[1;32m     10\u001b[0m \u001b[0;34m\u001b[0m\u001b[0m\n\u001b[1;32m     11\u001b[0m \u001b[0;31m# default model is set to desi+blur+offset\u001b[0m\u001b[0;34m\u001b[0m\u001b[0;34m\u001b[0m\u001b[0m\n",
      "\u001b[0;32m<ipython-input-3-a499a3ebdae9>\u001b[0m in \u001b[0;36mdesi_model\u001b[0;34m(model)\u001b[0m\n\u001b[1;32m      1\u001b[0m \u001b[0;31m# run the specsim.simulator with a configuration at \"model\"\u001b[0m\u001b[0;34m\u001b[0m\u001b[0;34m\u001b[0m\u001b[0m\n\u001b[1;32m      2\u001b[0m \u001b[0;32mdef\u001b[0m \u001b[0mdesi_model\u001b[0m\u001b[0;34m(\u001b[0m\u001b[0mmodel\u001b[0m\u001b[0;34m)\u001b[0m\u001b[0;34m:\u001b[0m\u001b[0;34m\u001b[0m\u001b[0m\n\u001b[0;32m----> 3\u001b[0;31m     \u001b[0;32mreturn\u001b[0m \u001b[0msim\u001b[0m\u001b[0;34m.\u001b[0m\u001b[0mSimulator\u001b[0m\u001b[0;34m(\u001b[0m\u001b[0mconfig_path\u001b[0m\u001b[0;34m+\u001b[0m\u001b[0mmodel\u001b[0m\u001b[0;34m+\u001b[0m\u001b[0;34m'.yaml'\u001b[0m\u001b[0;34m)\u001b[0m\u001b[0;34m\u001b[0m\u001b[0m\n\u001b[0m",
      "\u001b[0;32m/home/tyapici/Projects/desi/code/specsim/specsim/simulator.py\u001b[0m in \u001b[0;36m__init__\u001b[0;34m(self, config, num_fibers, camera_output, verbose)\u001b[0m\n\u001b[1;32m     73\u001b[0m         \u001b[0;31m# Initalize our component models.\u001b[0m\u001b[0;34m\u001b[0m\u001b[0;34m\u001b[0m\u001b[0m\n\u001b[1;32m     74\u001b[0m         \u001b[0mself\u001b[0m\u001b[0;34m.\u001b[0m\u001b[0matmosphere\u001b[0m \u001b[0;34m=\u001b[0m \u001b[0mspecsim\u001b[0m\u001b[0;34m.\u001b[0m\u001b[0matmosphere\u001b[0m\u001b[0;34m.\u001b[0m\u001b[0minitialize\u001b[0m\u001b[0;34m(\u001b[0m\u001b[0mconfig\u001b[0m\u001b[0;34m)\u001b[0m\u001b[0;34m\u001b[0m\u001b[0m\n\u001b[0;32m---> 75\u001b[0;31m         \u001b[0mself\u001b[0m\u001b[0;34m.\u001b[0m\u001b[0minstrument\u001b[0m \u001b[0;34m=\u001b[0m \u001b[0mspecsim\u001b[0m\u001b[0;34m.\u001b[0m\u001b[0minstrument\u001b[0m\u001b[0;34m.\u001b[0m\u001b[0minitialize\u001b[0m\u001b[0;34m(\u001b[0m\u001b[0mconfig\u001b[0m\u001b[0;34m,\u001b[0m \u001b[0mcamera_output\u001b[0m\u001b[0;34m)\u001b[0m\u001b[0;34m\u001b[0m\u001b[0m\n\u001b[0m\u001b[1;32m     76\u001b[0m         \u001b[0mself\u001b[0m\u001b[0;34m.\u001b[0m\u001b[0msource\u001b[0m \u001b[0;34m=\u001b[0m \u001b[0mspecsim\u001b[0m\u001b[0;34m.\u001b[0m\u001b[0msource\u001b[0m\u001b[0;34m.\u001b[0m\u001b[0minitialize\u001b[0m\u001b[0;34m(\u001b[0m\u001b[0mconfig\u001b[0m\u001b[0;34m)\u001b[0m\u001b[0;34m\u001b[0m\u001b[0m\n\u001b[1;32m     77\u001b[0m         \u001b[0mself\u001b[0m\u001b[0;34m.\u001b[0m\u001b[0mobservation\u001b[0m \u001b[0;34m=\u001b[0m \u001b[0mspecsim\u001b[0m\u001b[0;34m.\u001b[0m\u001b[0mobservation\u001b[0m\u001b[0;34m.\u001b[0m\u001b[0minitialize\u001b[0m\u001b[0;34m(\u001b[0m\u001b[0mconfig\u001b[0m\u001b[0;34m)\u001b[0m\u001b[0;34m\u001b[0m\u001b[0m\n",
      "\u001b[0;32m/home/tyapici/Projects/desi/code/specsim/specsim/instrument.py\u001b[0m in \u001b[0;36minitialize\u001b[0;34m(config, camera_output)\u001b[0m\n\u001b[1;32m    663\u001b[0m     \u001b[0;32melse\u001b[0m\u001b[0;34m:\u001b[0m\u001b[0;34m\u001b[0m\u001b[0m\n\u001b[1;32m    664\u001b[0m         blur_function = config.load_table2d(\n\u001b[0;32m--> 665\u001b[0;31m             config.instrument.blur, 'wavelength', 'r=')\n\u001b[0m\u001b[1;32m    666\u001b[0m \u001b[0;34m\u001b[0m\u001b[0m\n\u001b[1;32m    667\u001b[0m     \u001b[0moffset_value\u001b[0m \u001b[0;34m=\u001b[0m \u001b[0mgetattr\u001b[0m\u001b[0;34m(\u001b[0m\u001b[0mconfig\u001b[0m\u001b[0;34m.\u001b[0m\u001b[0minstrument\u001b[0m\u001b[0;34m.\u001b[0m\u001b[0moffset\u001b[0m\u001b[0;34m,\u001b[0m \u001b[0;34m'value'\u001b[0m\u001b[0;34m,\u001b[0m \u001b[0;32mNone\u001b[0m\u001b[0;34m)\u001b[0m\u001b[0;34m\u001b[0m\u001b[0m\n",
      "\u001b[0;32m/home/tyapici/Projects/desi/code/specsim/specsim/config.py\u001b[0m in \u001b[0;36mload_table2d\u001b[0;34m(self, node, y_column_name, x_column_prefix)\u001b[0m\n\u001b[1;32m    531\u001b[0m             \u001b[0mA\u001b[0m \u001b[0;36m2\u001b[0m\u001b[0mD\u001b[0m \u001b[0mlinear\u001b[0m \u001b[0minterpolator\u001b[0m \u001b[0;32min\u001b[0m \u001b[0;34m(\u001b[0m\u001b[0mx\u001b[0m\u001b[0;34m,\u001b[0m\u001b[0my\u001b[0m\u001b[0;34m)\u001b[0m \u001b[0mthat\u001b[0m \u001b[0mhandles\u001b[0m \u001b[0munits\u001b[0m \u001b[0mcorrectly\u001b[0m\u001b[0;34m.\u001b[0m\u001b[0;34m\u001b[0m\u001b[0m\n\u001b[1;32m    532\u001b[0m         \"\"\"\n\u001b[0;32m--> 533\u001b[0;31m         \u001b[0mpath\u001b[0m \u001b[0;34m=\u001b[0m \u001b[0mos\u001b[0m\u001b[0;34m.\u001b[0m\u001b[0mpath\u001b[0m\u001b[0;34m.\u001b[0m\u001b[0mjoin\u001b[0m\u001b[0;34m(\u001b[0m\u001b[0mself\u001b[0m\u001b[0;34m.\u001b[0m\u001b[0mabs_base_path\u001b[0m\u001b[0;34m,\u001b[0m \u001b[0mnode\u001b[0m\u001b[0;34m.\u001b[0m\u001b[0mpath\u001b[0m\u001b[0;34m)\u001b[0m\u001b[0;34m\u001b[0m\u001b[0m\n\u001b[0m\u001b[1;32m    534\u001b[0m         \u001b[0mfmt\u001b[0m \u001b[0;34m=\u001b[0m \u001b[0mgetattr\u001b[0m\u001b[0;34m(\u001b[0m\u001b[0mnode\u001b[0m\u001b[0;34m,\u001b[0m \u001b[0;34m'format'\u001b[0m\u001b[0;34m,\u001b[0m \u001b[0;32mNone\u001b[0m\u001b[0;34m)\u001b[0m\u001b[0;34m\u001b[0m\u001b[0m\n\u001b[1;32m    535\u001b[0m         \u001b[0mtable\u001b[0m \u001b[0;34m=\u001b[0m \u001b[0mastropy\u001b[0m\u001b[0;34m.\u001b[0m\u001b[0mtable\u001b[0m\u001b[0;34m.\u001b[0m\u001b[0mTable\u001b[0m\u001b[0;34m.\u001b[0m\u001b[0mread\u001b[0m\u001b[0;34m(\u001b[0m\u001b[0mpath\u001b[0m\u001b[0;34m,\u001b[0m \u001b[0mformat\u001b[0m\u001b[0;34m=\u001b[0m\u001b[0mfmt\u001b[0m\u001b[0;34m)\u001b[0m\u001b[0;34m\u001b[0m\u001b[0m\n",
      "\u001b[0;31mAttributeError\u001b[0m: 'NoneType' object has no attribute 'path'"
     ]
    }
   ],
   "source": [
    "num_source = 1\n",
    "DEBUG      = True\n",
    "desi_configs = ['desi', 'desi-blur', 'desi-blur-offset', 'desi-blur-offset-scale', 'desi-blur-offset-scale-stochastic']\n",
    "config_path = '/home/tyapici/Projects/DESI_projects/dithering/config/'\n",
    "desi_models = {}\n",
    "\n",
    "# generate all relevant configurations for future use\n",
    "for config in desi_configs:\n",
    "    desi_models[config] = desi_model(config)\n",
    "\n",
    "# default model is set to desi+blur+offset\n",
    "curr_desi_model_string = 'desi'#'desi-blur-offset'\n",
    "curr_desi_model = desi_models[curr_desi_model_string]"
   ]
  },
  {
   "cell_type": "code",
   "execution_count": 3,
   "metadata": {
    "collapsed": true
   },
   "outputs": [],
   "source": [
    "# run the specsim.simulator with a configuration at \"model\"\n",
    "def desi_model(model):\n",
    "    return sim.Simulator(config_path+model+'.yaml')"
   ]
  },
  {
   "cell_type": "code",
   "execution_count": 31,
   "metadata": {},
   "outputs": [],
   "source": [
    "# function to generate the wavelength values\n",
    "def create_wlen_grid(num_wlen=11, desi=curr_desi_model):\n",
    "    wavelength = desi.simulated['wavelength']\n",
    "    wlen_unit = wavelength.unit\n",
    "    return np.linspace(wavelength.data[0], wavelength.data[-1], num_wlen) * wlen_unit"
   ]
  },
  {
   "cell_type": "code",
   "execution_count": 32,
   "metadata": {
    "collapsed": true
   },
   "outputs": [],
   "source": [
    "# function to generate the positions of the fibers.\n",
    "# TODO: it is done with random positions, need to change with the actual positions\n",
    "def generate_fiber_positions(nfiber=5000, seed=13, desi=curr_desi_model, isRandom=True):\n",
    "    if isRandom:\n",
    "        gen = np.random.RandomState(seed)\n",
    "        focal_r = (np.sqrt(gen.uniform(size=nfiber)) * desi.instrument.field_radius)\n",
    "        phi = 2 * np.pi * gen.uniform(size=nfiber)\n",
    "    else:\n",
    "        # this part is broken. needs some fixing\n",
    "        gen = np.random.RandomState(seed)\n",
    "        focal_r = (np.sqrt(gen.uniform(0, 0.001, size=nfiber)) * desi.instrument.field_radius)\n",
    "        phi = 2 * np.pi * gen.uniform(size=nfiber)\n",
    "    return np.cos(phi) * focal_r, np.sin(phi) * focal_r"
   ]
  },
  {
   "cell_type": "code",
   "execution_count": 33,
   "metadata": {},
   "outputs": [],
   "source": [
    "# function to plot the fiber positions nicely\n",
    "def plot_fiber_positions(focal_x, focal_y, save=None, desi=curr_desi_model, select=None):\n",
    "    plt.figure(figsize=(8, 8))\n",
    "    x, y = focal_x.to(u.mm).value, focal_y.to(u.mm).value\n",
    "    plt.plot(x, y, '.')\n",
    "    if select is not None:\n",
    "        plt.scatter(x[select], y[select], s=100)\n",
    "    r = 1.05 * desi.instrument.field_radius.to(u.mm).value\n",
    "    plt.xlim(-1.01 * r, +1.01 * r)\n",
    "    plt.ylim(-1.01 * r, +1.01 * r)\n",
    "    plt.gca().set_aspect('equal', 'datalim')\n",
    "    plt.gca().add_artist(plt.Circle((0, 0), r, color='r', fill=False))\n",
    "    plt.axis('off')\n",
    "    if save:\n",
    "        plt.savefig(save)\n",
    "    else:\n",
    "        plt.show()"
   ]
  },
  {
   "cell_type": "code",
   "execution_count": 34,
   "metadata": {
    "collapsed": true
   },
   "outputs": [],
   "source": [
    "# function to generate mock sources\n",
    "def generate_sources(nsrc=5000, disk_fraction=1., bulge_fraction=0., vary='', seed=23, minormajor=[1,1]):\n",
    "    gen = np.random.RandomState(seed)\n",
    "    varied = vary.split(',')\n",
    "    source_fraction = np.tile([disk_fraction, bulge_fraction], (nsrc, 1))\n",
    "    source_half_light_radius = np.tile([0.45, 1.0], (nsrc, 1))\n",
    "    source_minor_major_axis_ratio = np.tile(minormajor, (nsrc, 1))\n",
    "    if 'pa' in varied:\n",
    "        source_position_angle = 360. * gen.uniform(size=(nsrc, 2))\n",
    "    else:\n",
    "        source_position_angle = np.tile([0., 0.], (nsrc, 1))\n",
    "    return source_fraction, source_half_light_radius, source_minor_major_axis_ratio, source_position_angle"
   ]
  },
  {
   "cell_type": "code",
   "execution_count": 45,
   "metadata": {
    "collapsed": true
   },
   "outputs": [],
   "source": [
    "def calculateFiberLoss(wlen_grid, desi=curr_desi_model):\n",
    "    calc = floss.GalsimFiberlossCalculator(desi.instrument.fiber_diameter.to(u.um).value,\n",
    "                                           wlen_grid.to(u.Angstrom).value,\n",
    "                                           num_pixels=16, oversampling=32, moffat_beta=3.5)\n",
    "    return calc"
   ]
  },
  {
   "cell_type": "code",
   "execution_count": 46,
   "metadata": {},
   "outputs": [],
   "source": [
    "def get_fiberloss(source_fraction, source_half_light_radius, source_minor_major_axis_ratio,\n",
    "                  source_position_angle,\n",
    "                  x, y, wlen_grid, seeing=1.1*u.arcsec, desi=curr_desi_model):\n",
    "    # Subtract instrumental PSF.\n",
    "    #Jacoby = 0.219\n",
    "    #seeing = 2.35482 * np.sqrt((seeing.to(u.arcsec).value/2.35482) ** 2 - Jacoby**2) * u.arcsec\n",
    "    # Tabulate seeing.\n",
    "    #desi.atmosphere.seeing_fwhm_ref = seeing\n",
    "    seeing_fwhm = desi.atmosphere.get_seeing_fwhm(wlen_grid).to(u.arcsec).value\n",
    "    # Calculate optics.\n",
    "    # NOTE: TODO: may add dithering stuff here\n",
    "    \n",
    "    scale, blur, offset = desi.instrument.get_focal_plane_optics(x, y, wlen_grid)\n",
    "    # Do the fiberloss calculations.\n",
    "    calc = calculateFiberLoss(wlen_grid, desi=desi)\n",
    "    return calc.calculate(seeing_fwhm,\n",
    "                          scale.to(u.um / u.arcsec).value, offset.to(u.um).value,\n",
    "                          blur.to(u.um).value,\n",
    "                          source_fraction, source_half_light_radius,\n",
    "                          source_minor_major_axis_ratio, source_position_angle)"
   ]
  },
  {
   "cell_type": "code",
   "execution_count": 37,
   "metadata": {
    "collapsed": true
   },
   "outputs": [],
   "source": [
    "def get_desimodel_fiberloss(obj_type='lrg'):\n",
    "    path = os.path.join(os.environ['DESIMODEL'], 'data', 'throughput',\n",
    "                        'fiberloss-{0}.dat'.format(obj_type))\n",
    "    t = astropy.table.Table.read(path, format='ascii', names=['wlen', 'accept'])\n",
    "    return t"
   ]
  },
  {
   "cell_type": "code",
   "execution_count": 38,
   "metadata": {
    "collapsed": true
   },
   "outputs": [],
   "source": [
    "def plot_fiberloss(floss, cmap_name='viridis', alpha=0.1, ylim=(None, None),\n",
    "                   desi=curr_desi_model, desimodel_type=None, save=None, overlay=False):\n",
    "    if not overlay:\n",
    "        plt.figure(figsize=(5, 4))\n",
    "    wlen = wlen_grid.value\n",
    "    rvalues = np.sqrt(focal_x ** 2 + focal_y ** 2)\n",
    "    norm = matplotlib.colors.Normalize(\n",
    "        vmin=0., vmax=desi.instrument.field_radius.to(u.mm).value)\n",
    "    sm = matplotlib.cm.ScalarMappable(norm=norm, cmap=plt.get_cmap(cmap_name))\n",
    "    for f, r in zip(floss, rvalues):\n",
    "        color = sm.to_rgba(r)\n",
    "        p = plt.plot(wlen, f, ls='-', c=color, alpha=0.2)\n",
    "    plt.plot(wlen, np.median(floss, axis=0), 'k-', lw=2, label='median')\n",
    "    if desimodel_type:\n",
    "        t = get_desimodel_fiberloss(desimodel_type)\n",
    "        plt.plot(t['wlen'], t['accept'], 'r--', lw=2, label='desimodel')\n",
    "    if not overlay:\n",
    "        plt.ylim(*ylim)\n",
    "        # Very useful trick from http://stackoverflow.com/posts/11558629/revisions\n",
    "        sm._A = []\n",
    "        plt.colorbar(sm).set_label('Radius [mm]')\n",
    "        plt.xlabel('Wavelength [Angstrom]')\n",
    "        plt.ylabel('Fiber accepetance fraction')\n",
    "        plt.xlim(wlen[0], wlen[-1])\n",
    "        plt.tight_layout()\n",
    "    if save:\n",
    "        plt.savefig(save)"
   ]
  },
  {
   "cell_type": "code",
   "execution_count": 55,
   "metadata": {
    "collapsed": true
   },
   "outputs": [],
   "source": [
    "def plot_one_fiberloss(floss, ix, iy, wlen_grid, cmap_name='viridis', alpha=0.1, ylim=(None, None),\n",
    "                       desi=curr_desi_model, desimodel_type=None, save=None, overlay=False):\n",
    "    wlen = wlen_grid.value\n",
    "    line_median, = plt.plot(wlen, np.median(floss, axis=0), 'k-', lw=2, label='dx=%d dy=%d'%(ix*5, iy*5), alpha=0.1)\n",
    "    return line_median"
   ]
  },
  {
   "cell_type": "code",
   "execution_count": 40,
   "metadata": {
    "collapsed": true
   },
   "outputs": [],
   "source": [
    "#plot_fiberloss(f_qso_round, ylim=(0.18, 0.68), desimodel_type='qso', save=\"qso_round_fiberloss_1.png\")\n",
    "#plot_fiberloss(f_qso_elliptic, ylim=(0.18, 0.68), desimodel_type='qso', save=\"qso_elliptic_fiberloss_1.png\")"
   ]
  },
  {
   "cell_type": "code",
   "execution_count": 41,
   "metadata": {
    "collapsed": true
   },
   "outputs": [],
   "source": [
    "#plot_fiberloss(f_elgs_round, ylim=(0.18, 0.68), desimodel_type='elg', save=\"elg_round_fiberloss.png\")\n",
    "#plot_fiberloss(f_elgs_elliptic, ylim=(0.18, 0.68), desimodel_type='elg', save=\"elg_elliptic_fiberloss.png\")"
   ]
  },
  {
   "cell_type": "code",
   "execution_count": 42,
   "metadata": {
    "collapsed": true
   },
   "outputs": [],
   "source": [
    "#plot_fiberloss(f_lrgs_round, ylim=(0.18, 0.68), desimodel_type='lrg', save=\"lrg_round_fiberloss.png\")\n",
    "#plot_fiberloss(f_lrgs_elliptic, ylim=(0.18, 0.68), desimodel_type='lrg', save=\"lrg_elliptic_fiberloss.png\")"
   ]
  },
  {
   "cell_type": "code",
   "execution_count": 43,
   "metadata": {
    "collapsed": true
   },
   "outputs": [],
   "source": [
    "#plt.clf()\n",
    "#fig1 = plt.figure(1,1)\n",
    "#c = specsim.config.load_config(config_path+\"desi-blur\"+\".yaml\")\n",
    "#i = specsim.instrument.initialize(c)\n",
    "#i.plot()\n",
    "#plt.show()\n",
    "#i.plot_field_distortion()\n",
    "#plt.show()"
   ]
  },
  {
   "cell_type": "code",
   "execution_count": null,
   "metadata": {},
   "outputs": [],
   "source": [
    "def run(fiber_pos_seed):\n",
    "    # fiber positions\n",
    "    focal_x, focal_y = generate_fiber_positions(num_source, isRandom=True, seed=fiber_pos_seed)\n",
    "    \n",
    "    # generate the wavelengths array\n",
    "    wlen_grid = create_wlen_grid()\n",
    "        \n",
    "    # plot the position of fibers\n",
    "    # number of fibers needs to be equal to the number of sources\n",
    "    # currently, there is only one source (that makes it easy to run a test)\n",
    "    # TODO: make the whole script working for more than one fiber \n",
    "    if DEBUG:\n",
    "        plot_fiber_positions(focal_x, focal_y, save=\"fiber_pos_%d.png\"%fiber_pos_seed)\n",
    "    \n",
    "    # the source information will be used later on for the fiber loss calculation\n",
    "    # using their expected spectrum\n",
    "    # Round sources are generated here\n",
    "    qsos_round = generate_sources(num_source, 0., 0., seed=1)\n",
    "    elgs_round = generate_sources(num_source, 1., 0., seed=1)\n",
    "    lrgs_round = generate_sources(num_source, 0., 1., seed=1)\n",
    "    # elliptic objects are generated here\n",
    "    qsos_elliptic = generate_sources(num_source, 0., 0., seed=1, minormajor=[0.4, 0.6])\n",
    "    elgs_elliptic = generate_sources(num_source, 1., 0., seed=1, minormajor=[0.4, 0.6])\n",
    "    lrgs_elliptic = generate_sources(num_source, 0., 1., seed=1, minormajor=[0.4, 0.6])\n",
    "    \n",
    "    desi = curr_desi_model\n",
    "    f_qso_round  = get_fiberloss(*qsos_round, focal_x, focal_y, wlen_grid, desi=desi)\n",
    "    f_elgs_round = get_fiberloss(*elgs_round, focal_x, focal_y, wlen_grid, desi=desi)\n",
    "    f_lrgs_round = get_fiberloss(*lrgs_round, focal_x, focal_y, wlen_grid, desi=desi)\n",
    "    f_qso_elliptic  = get_fiberloss(*qsos_elliptic, focal_x, focal_y, wlen_grid, desi=desi)\n",
    "    f_elgs_elliptic = get_fiberloss(*elgs_elliptic, focal_x, focal_y, wlen_grid, desi=desi)\n",
    "    f_lrgs_elliptic = get_fiberloss(*lrgs_elliptic, focal_x, focal_y, wlen_grid, desi=desi)\n",
    "    \n",
    "    x = []\n",
    "    y = []\n",
    "    w_3550 = []\n",
    "    w_6700 = []\n",
    "    w_9850 = []\n",
    "    num_dither = 50\n",
    "    dither = np.linspace(-10, 10, num_dither)\n",
    "    for ix in range(num_dither):\n",
    "        for iy in range(num_dither):\n",
    "            f_qso_round  = get_fiberloss(*qsos_round, focal_x+dither[ix]*5*u.mm, focal_y+dither[iy]*5.*u.mm, wlen_grid, desi=desi)\n",
    "            x.append(dither[ix]*5)\n",
    "            y.append(dither[iy]*5)\n",
    "            w_3550.append(np.array(f_qso_round).flatten()[0])\n",
    "            w_6700.append(np.array(f_qso_round).flatten()[5])\n",
    "            w_9850.append(np.array(f_qso_round).flatten()[-1])\n",
    "            l1 = plot_one_fiberloss(f_qso_round, ix, iy, wlen_grid, ylim=(0.18, 0.68), desimodel_type='qso')#, save=\"figures/qso_round_fiberloss_%d.png\"%(dither[i]))\n",
    "    t = get_desimodel_fiberloss('qso')\n",
    "    line_model, = plt.plot(t['wlen'], t['accept'], 'r--', lw=2, label='desimodel')\n",
    "    #plt.show()\n",
    "    plt.savefig(\"figures/ugly_plot_%s_%d.png\"%(curr_desi_model_string, fiber_pos_seed))\n",
    "    \n",
    "    plt.clf()\n",
    "    plt.hist2d(np.array(x), np.array(y), range=[[-50, 50], [-50, 50]], bins=num_dither, weights=np.array(w_3550))\n",
    "    plt.colorbar()\n",
    "    plt.xlabel(\"X [mm]\")\n",
    "    plt.ylabel(\"Y [mm]\")\n",
    "    plt.suptitle(\"Fiber Acceptance at 3550 A\")\n",
    "    plt.savefig(\"dither_fiber_acceptance_3550_%s_%d.png\"%(curr_desi_model_string, fiber_pos_seed))\n",
    "    \n",
    "    plt.clf()\n",
    "    plt.hist2d(np.array(x), np.array(y), range=[[-50, 50], [-50, 50]], bins=num_dither, weights=np.array(w_6700))\n",
    "    plt.colorbar()\n",
    "    plt.xlabel(\"X [mm]\")\n",
    "    plt.ylabel(\"Y [mm]\")\n",
    "    plt.suptitle(\"Fiber Acceptance at 6700 A\")\n",
    "    plt.savefig(\"dither_fiber_acceptance_6700_%s_%d.png\"%(curr_desi_model_string, fiber_pos_seed))\n",
    "    \n",
    "    plt.clf()\n",
    "    plt.hist2d(np.array(x), np.array(y), range=[[-50, 50], [-50, 50]], bins=num_dither, weights=np.array(w_9850))\n",
    "    plt.colorbar()\n",
    "    plt.xlabel(\"X [mm]\")\n",
    "    plt.ylabel(\"Y [mm]\")\n",
    "    plt.suptitle(\"Fiber Acceptance at 9850 A\")\n",
    "    plt.savefig(\"dither_fiber_acceptance_9850_%s_%d.png\"%(curr_desi_model_string, fiber_pos_seed))\n",
    "    \n",
    "for i in range(20):\n",
    "    try:\n",
    "        run(np.random.randint(0, 100))\n",
    "    except:\n",
    "        continue"
   ]
  },
  {
   "cell_type": "code",
   "execution_count": null,
   "metadata": {
    "collapsed": true
   },
   "outputs": [],
   "source": []
  }
 ],
 "metadata": {
  "kernelspec": {
   "display_name": "Python 3",
   "language": "python",
   "name": "python3"
  },
  "language_info": {
   "codemirror_mode": {
    "name": "ipython",
    "version": 3
   },
   "file_extension": ".py",
   "mimetype": "text/x-python",
   "name": "python",
   "nbconvert_exporter": "python",
   "pygments_lexer": "ipython3",
   "version": "3.5.3"
  }
 },
 "nbformat": 4,
 "nbformat_minor": 2
}
