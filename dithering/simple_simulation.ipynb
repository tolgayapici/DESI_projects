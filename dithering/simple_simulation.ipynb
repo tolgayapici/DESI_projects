{
 "cells": [
  {
   "cell_type": "markdown",
   "metadata": {},
   "source": [
    "General DESI related packages"
   ]
  },
  {
   "cell_type": "code",
   "execution_count": 18,
   "metadata": {},
   "outputs": [],
   "source": [
    "# general packages\n",
    "import os\n",
    "import numpy as np\n",
    "import matplotlib\n",
    "import matplotlib.pyplot as plt\n",
    "\n",
    "import specsim\n",
    "import specsim.quickspecsim as qspecsim\n",
    "import specsim.instrument as inst\n",
    "import specsim.source as src\n",
    "import specsim.config as conf\n",
    "import specsim.fiberloss as floss\n",
    "import specsim.observation as obs\n",
    "import specsim.simulator as sim\n",
    "import specsim.atmosphere as atm\n",
    "\n",
    "from desisim import io\n",
    "from desisim import obs\n",
    "\n",
    "import astropy.units as u\n",
    "import astropy.table\n",
    "\n",
    "from scipy.interpolate import interp1d"
   ]
  },
  {
   "cell_type": "code",
   "execution_count": 20,
   "metadata": {},
   "outputs": [
    {
     "name": "stdout",
     "output_type": "stream",
     "text": [
      "round and elliptic sources has been generated\n"
     ]
    }
   ],
   "source": [
    "# run the specsim.simulator with a configuration at \"model\"\n",
    "def desi_model(model):\n",
    "    return sim.Simulator(config_path+model+'.yaml')\n",
    "\n",
    "num_source   = 1\n",
    "DEBUG        = True\n",
    "desi_configs = ['desi-blur', 'desi-blur-offset', 'desi-blur-offset-scale', 'desi-blur-offset-scale-stochastic']\n",
    "config_path  = '/home/tyapici/Projects/DESI_projects/dithering/config/'\n",
    "desi_models  = {}\n",
    "\n",
    "# generate all relevant configurations for future use\n",
    "for config in desi_configs:\n",
    "    desi_models[config] = desi_model(config)\n",
    "\n",
    "# default model is set to desi+blur+offset\n",
    "curr_desi_model_string = 'desi-blur-offset'\n",
    "curr_desi_model = desi_models[curr_desi_model_string]\n",
    "\n",
    "# function to generate the wavelength values\n",
    "def create_wlen_grid(num_wlen=11, desi=curr_desi_model):\n",
    "    wavelength = desi.simulated['wavelength']\n",
    "    wlen_unit = wavelength.unit\n",
    "    return np.linspace(wavelength.data[0], wavelength.data[-1], num_wlen) * wlen_unit\n",
    "\n",
    "# function to generate mock sources\n",
    "def generate_source(nsrc=1, disk_fraction=1., bulge_fraction=0., vary='', seed=23, minormajor=[1,1]):\n",
    "    gen = np.random.RandomState(seed)\n",
    "    varied = vary.split(',')\n",
    "    source_fraction = np.tile([disk_fraction, bulge_fraction], (nsrc, 1))\n",
    "    source_half_light_radius = np.tile([0.45, 1.0], (nsrc, 1))\n",
    "    source_minor_major_axis_ratio = np.tile(minormajor, (nsrc, 1))\n",
    "    #if 'pa' in varied:\n",
    "    source_position_angle = 360. * gen.uniform(size=(nsrc, 2))\n",
    "    #else:\n",
    "    #    source_position_angle = np.tile([0., 0.], (nsrc, 1))\n",
    "    return source_fraction, source_half_light_radius, source_minor_major_axis_ratio, source_position_angle"
   ]
  },
  {
   "cell_type": "code",
   "execution_count": 3,
   "metadata": {
    "collapsed": true
   },
   "outputs": [],
   "source": [
    "# function to generate the positions of the fibers.\n",
    "# TODO: it is done with random positions, need to change with the actual positions\n",
    "def generate_fiber_positions(nfiber=5000, seed=13, desi=curr_desi_model, isRandom=True):\n",
    "    if isRandom:\n",
    "        gen = np.random.RandomState(seed)\n",
    "        focal_r = (np.sqrt(gen.uniform(size=nfiber)) * desi.instrument.field_radius)\n",
    "        phi = 2 * np.pi * gen.uniform(size=nfiber)\n",
    "    else:\n",
    "        # this part is broken. needs some fixing\n",
    "        gen = np.random.RandomState(seed)\n",
    "        focal_r = (np.sqrt(gen.uniform(0, 0.001, size=nfiber)) * desi.instrument.field_radius)\n",
    "        phi = 2 * np.pi * gen.uniform(size=nfiber)\n",
    "    return np.cos(phi) * focal_r, np.sin(phi) * focal_r"
   ]
  },
  {
   "cell_type": "code",
   "execution_count": 4,
   "metadata": {},
   "outputs": [],
   "source": [
    "# function to plot the fiber positions nicely\n",
    "def plot_fiber_positions(focal_x, focal_y, save=None, desi=curr_desi_model, select=None):\n",
    "    plt.figure(figsize=(8, 8))\n",
    "    x, y = focal_x.to(u.mm).value, focal_y.to(u.mm).value\n",
    "    plt.plot(x, y, '.')\n",
    "    if select is not None:\n",
    "        plt.scatter(x[select], y[select], s=100)\n",
    "    r = 1.05 * desi.instrument.field_radius.to(u.mm).value\n",
    "    plt.xlim(-1.01 * r, +1.01 * r)\n",
    "    plt.ylim(-1.01 * r, +1.01 * r)\n",
    "    plt.gca().set_aspect('equal', 'datalim')\n",
    "    plt.gca().add_artist(plt.Circle((0, 0), r, color='r', fill=False))\n",
    "    plt.axis('off')\n",
    "    if save:\n",
    "        plt.savefig(save)\n",
    "    else:\n",
    "        plt.show()"
   ]
  },
  {
   "cell_type": "code",
   "execution_count": 5,
   "metadata": {
    "collapsed": true
   },
   "outputs": [],
   "source": [
    "def calculateFiberLoss(wlen_grid, desi=curr_desi_model):\n",
    "    calc = floss.GalsimFiberlossCalculator(desi.instrument.fiber_diameter.to(u.um).value,\n",
    "                                           wlen_grid.to(u.Angstrom).value,\n",
    "                                           num_pixels=16, oversampling=32, moffat_beta=3.5)\n",
    "    return calc"
   ]
  },
  {
   "cell_type": "code",
   "execution_count": 6,
   "metadata": {},
   "outputs": [],
   "source": [
    "def get_fiberloss(source_fraction, source_half_light_radius, source_minor_major_axis_ratio,\n",
    "                  source_position_angle, x, y, wlen_grid, seeing=1.1*u.arcsec, desi=curr_desi_model):\n",
    "    # Subtract instrumental PSF.\n",
    "    #Jacoby = 0.219\n",
    "    #seeing = 2.35482 * np.sqrt((seeing.to(u.arcsec).value/2.35482) ** 2 - Jacoby**2) * u.arcsec\n",
    "    # Tabulate seeing.\n",
    "    #desi.atmosphere.seeing_fwhm_ref = seeing\n",
    "    seeing_fwhm = desi.atmosphere.get_seeing_fwhm(wlen_grid).to(u.arcsec).value\n",
    "    # Calculate optics.\n",
    "    # NOTE: TODO: may add dithering stuff here\n",
    "    \n",
    "    scale, blur, offset = desi.instrument.get_focal_plane_optics(x, y, wlen_grid)\n",
    "    # Do the fiberloss calculations.\n",
    "    calc = calculateFiberLoss(wlen_grid, desi=desi)\n",
    "    return calc.calculate(seeing_fwhm,\n",
    "                          scale.to(u.um / u.arcsec).value, offset.to(u.um).value,\n",
    "                          blur.to(u.um).value,\n",
    "                          source_fraction, source_half_light_radius,\n",
    "                          source_minor_major_axis_ratio, source_position_angle)\n",
    "    # there is something going wrong here with the source position angle\n",
    "    # no matter what it is, the plots look the same for different sources at different locations"
   ]
  },
  {
   "cell_type": "code",
   "execution_count": 7,
   "metadata": {
    "collapsed": true
   },
   "outputs": [],
   "source": [
    "def get_desimodel_fiberloss(obj_type='lrg'):\n",
    "    path = os.path.join(os.environ['DESIMODEL'], 'data', 'throughput',\n",
    "                        'fiberloss-{0}.dat'.format(obj_type))\n",
    "    t = astropy.table.Table.read(path, format='ascii', names=['wlen', 'accept'])\n",
    "    return t"
   ]
  },
  {
   "cell_type": "code",
   "execution_count": 8,
   "metadata": {
    "collapsed": true
   },
   "outputs": [],
   "source": [
    "def plot_fiberloss(floss, cmap_name='viridis', alpha=0.1, ylim=(None, None),\n",
    "                   desi=curr_desi_model, desimodel_type=None, save=None, overlay=False):\n",
    "    if not overlay:\n",
    "        plt.figure(figsize=(5, 4))\n",
    "    wlen = wlen_grid.value\n",
    "    rvalues = np.sqrt(focal_x ** 2 + focal_y ** 2)\n",
    "    norm = matplotlib.colors.Normalize(\n",
    "        vmin=0., vmax=desi.instrument.field_radius.to(u.mm).value)\n",
    "    sm = matplotlib.cm.ScalarMappable(norm=norm, cmap=plt.get_cmap(cmap_name))\n",
    "    for f, r in zip(floss, rvalues):\n",
    "        color = sm.to_rgba(r)\n",
    "        p = plt.plot(wlen, f, ls='-', c=color, alpha=0.2)\n",
    "    plt.plot(wlen, np.median(floss, axis=0), 'k-', lw=2, label='median')\n",
    "    if desimodel_type:\n",
    "        t = get_desimodel_fiberloss(desimodel_type)\n",
    "        plt.plot(t['wlen'], t['accept'], 'r--', lw=2, label='desimodel')\n",
    "    if not overlay:\n",
    "        plt.ylim(*ylim)\n",
    "        # Very useful trick from http://stackoverflow.com/posts/11558629/revisions\n",
    "        sm._A = []\n",
    "        plt.colorbar(sm).set_label('Radius [mm]')\n",
    "        plt.xlabel('Wavelength [Angstrom]')\n",
    "        plt.ylabel('Fiber accepetance fraction')\n",
    "        plt.xlim(wlen[0], wlen[-1])\n",
    "        plt.tight_layout()\n",
    "    if save:\n",
    "        plt.savefig(save)"
   ]
  },
  {
   "cell_type": "code",
   "execution_count": 9,
   "metadata": {
    "collapsed": true
   },
   "outputs": [],
   "source": [
    "def plot_one_fiberloss(floss, ix, iy, wlen_grid, cmap_name='viridis', alpha=0.1, ylim=(None, None),\n",
    "                       desi=curr_desi_model, desimodel_type=None, save=None, overlay=False):\n",
    "    wlen = wlen_grid.value\n",
    "    line_median, = plt.plot(wlen, np.median(floss, axis=0), 'k-', lw=2, label='dx=%d dy=%d'%(ix*5, iy*5), alpha=0.1)\n",
    "    return line_median"
   ]
  },
  {
   "cell_type": "code",
   "execution_count": 46,
   "metadata": {},
   "outputs": [],
   "source": [
    "def run(fiber_pos_seed, focal_x, focal_y, source_fraction, source_half_light_radius, \n",
    "        source_minor_major_axis_ratio, source_position_angle, append_name):\n",
    "    # generate the wavelengths array\n",
    "    wlen_grid = create_wlen_grid()\n",
    "    print(\"wavelength grid has been generated\")\n",
    "    \n",
    "    # plot the position of fibers\n",
    "    # number of fibers needs to be equal to the number of sources\n",
    "    # currently, there is only one source (that makes it easy to run a test)\n",
    "    # TODO: make the whole script working for more than one fiber \n",
    "    if DEBUG:\n",
    "        plot_fiber_positions(focal_x, focal_y, save=\"figures/fiber_pos_%d.png\"%fiber_pos_seed)\n",
    "        print(\"fiber position has been plotted\")\n",
    "\n",
    "    desi = curr_desi_model\n",
    "    source_loss = get_fiberloss(source_fraction, source_half_light_radius, \n",
    "                                source_minor_major_axis_ratio,source_position_angle, \n",
    "                                focal_x, focal_y, wlen_grid, desi=desi)\n",
    "    print(\"fiber loss calculations finished\")\n",
    "    \n",
    "    x = []\n",
    "    y = []\n",
    "    acceptance_at_3550 = []\n",
    "    acceptance_at_6700 = []\n",
    "    acceptance_at_9850 = []\n",
    "    expected_acceptance_at_3550 = []\n",
    "    expected_acceptance_at_6700 = []\n",
    "    expectedacceptance_at_9850 = []\n",
    "    diff_acceptance_at_3550 = []\n",
    "    diff_acceptance_at_6700 = []\n",
    "    diff_acceptance_at_9850 = []\n",
    "    num_dither = 4\n",
    "    dither = np.linspace(-10, 10, num_dither)\n",
    "    plt.clf()\n",
    "    for ix in range(num_dither):\n",
    "        for iy in range(num_dither):\n",
    "            source_loss = get_fiberloss(source_fraction, source_half_light_radius, \n",
    "                                        source_minor_major_axis_ratio,source_position_angle, \n",
    "                                        focal_x+dither[ix]*5*u.mm, focal_y+dither[iy]*5.*u.mm, \n",
    "                                        wlen_grid, desi=desi)\n",
    "            x.append(dither[ix]*5)\n",
    "            y.append(dither[iy]*5)\n",
    "            acceptance_at_3550.append(np.array(source_loss).flatten()[0])\n",
    "            acceptance_at_6700.append(np.array(source_loss).flatten()[5])\n",
    "            acceptance_at_9850.append(np.array(source_loss).flatten()[-1])\n",
    "            if ix==0 and iy==0:\n",
    "                center_acceptance_at_3550 = np.array(source_loss).flatten()[0]\n",
    "                center_acceptance_at_6700 = np.array(source_loss).flatten()[5]\n",
    "                center_acceptance_at_9850 = np.array(source_loss).flatten()[-1]\n",
    "            l1 = plot_one_fiberloss(source_loss, ix, iy, \n",
    "                                    wlen_grid, ylim=(0.18, 0.68), desimodel_type='qso')\n",
    "    diff_acceptance_at_3550 = acceptance_at_3550 - center_acceptance_at_3550\n",
    "    diff_acceptance_at_6700 = acceptance_at_6700 - center_acceptance_at_6700\n",
    "    diff_acceptance_at_9850 = acceptance_at_9850 - center_acceptance_at_9850\n",
    "    \n",
    "    t = get_desimodel_fiberloss('qso')\n",
    "    xs = np.array(t['wlen'])\n",
    "    ys = np.array(t['accept'])\n",
    "    model_acceptance_func = interp1d(xs, ys, fill_value='extrapolate')\n",
    "    expected_acceptance_at_3550 = model_acceptance_func(3550)\n",
    "    expected_acceptance_at_6700 = model_acceptance_func(6700)\n",
    "    expected_acceptance_at_9850 = model_acceptance_func(9850)\n",
    "    line_model, = plt.plot(t['wlen'], t['accept'], 'r--', lw=2, label='desimodel')\n",
    "    # TODO: depending on the source type the filenames here and after should be changed.\n",
    "    plt.savefig(\"figures/ugly_plot_%s_%d_%s.png\"%(curr_desi_model_string, fiber_pos_seed, append_name))\n",
    "    print(\"arrays have been filled... Starting 2D histogram generation\")\n",
    "    \n",
    "    plt.clf()\n",
    "    plt.hist2d(np.array(x), np.array(y), range=[[-50, 50], [-50, 50]], \n",
    "               bins=num_dither, weights=np.array(acceptance_at_3550), vmin=0.4, vmax=0.7)\n",
    "    plt.colorbar()\n",
    "    plt.clim(0.4,0.7)\n",
    "    plt.xlabel(\"X [mm]\")\n",
    "    plt.ylabel(\"Y [mm]\")\n",
    "    plt.suptitle(\"Fiber Acceptance at 3550 A\\nExpected Acceptance %f\\nCenter Value %f\"%(expected_acceptance_at_3550, \n",
    "                                                                                        center_acceptance_at_3550))\n",
    "    plt.savefig(\"figures/dither_fiber_acceptance_3550_%s_%d_%s.png\"%(curr_desi_model_string, fiber_pos_seed, \n",
    "                                                                     append_name))\n",
    "    \n",
    "    plt.clf()\n",
    "    plt.hist(diff_acceptance_at_3550)\n",
    "    plt.xlabel(\"Difference in Acceptance\")\n",
    "    #plt.suptitle(\"Fiber Acceptance at 3550 A\\nExpected Acceptance %f\\nCenter Value %f\"%(expected_acceptance_at_3550, \n",
    "    #                                                                                    center_acceptance_at_3550))\n",
    "    plt.savefig(\"figures/dither_diff_fiber_acceptance_3550_%s_%d_%s.png\"%(curr_desi_model_string, fiber_pos_seed, \n",
    "                                                                     append_name))\n",
    "    \n",
    "    plt.clf()\n",
    "    plt.hist2d(np.array(x), np.array(y), range=[[-50, 50], [-50, 50]], \n",
    "               bins=num_dither, weights=np.array(acceptance_at_6700), vmin=0.4, vmax=0.7)\n",
    "    plt.colorbar()\n",
    "    plt.clim(0.4,0.7)\n",
    "    plt.xlabel(\"X [mm]\")\n",
    "    plt.ylabel(\"Y [mm]\")\n",
    "    plt.suptitle(\"Fiber Acceptance at 6700 A\\nExpected Acceptance %f\\nCenter Value %f\"%(expected_acceptance_at_6700, \n",
    "                                                                                        center_acceptance_at_6700))\n",
    "    plt.savefig(\"figures/dither_fiber_acceptance_6700_%s_%d_%s.png\"%(curr_desi_model_string, fiber_pos_seed, \n",
    "                                                                     append_name))\n",
    "    \n",
    "    plt.clf()\n",
    "    plt.hist(diff_acceptance_at_6700)\n",
    "    plt.xlabel(\"Difference in Acceptance\")\n",
    "    #plt.suptitle(\"Fiber Acceptance at 3550 A\\nExpected Acceptance %f\\nCenter Value %f\"%(expected_acceptance_at_3550, \n",
    "    #                                                                                    center_acceptance_at_3550))\n",
    "    plt.savefig(\"figures/dither_diff_fiber_acceptance_6700_%s_%d_%s.png\"%(curr_desi_model_string, fiber_pos_seed, \n",
    "                                                                     append_name))\n",
    "    \n",
    "    plt.clf()\n",
    "    plt.hist2d(np.array(x), np.array(y), range=[[-50, 50], [-50, 50]], \n",
    "               bins=num_dither, weights=np.array(acceptance_at_9850), vmin=0.4, vmax=0.7)\n",
    "    plt.colorbar()\n",
    "    plt.clim(0.4,0.7)\n",
    "    plt.xlabel(\"X [mm]\")\n",
    "    plt.ylabel(\"Y [mm]\")\n",
    "    plt.suptitle(\"Fiber Acceptance at 9850 A\\nExpected Acceptance %f\\nCenter Value %f\"%(expected_acceptance_at_9850, \n",
    "                                                                                        center_acceptance_at_9850))\n",
    "    plt.savefig(\"figures/dither_fiber_acceptance_9850_%s_%d_%s.png\"%(curr_desi_model_string, fiber_pos_seed, \n",
    "                                                                     append_name))\n",
    "    \n",
    "    plt.clf()\n",
    "    plt.hist(diff_acceptance_at_9850)\n",
    "    plt.xlabel(\"Difference in Acceptance\")\n",
    "    #plt.suptitle(\"Fiber Acceptance at 3550 A\\nExpected Acceptance %f\\nCenter Value %f\"%(expected_acceptance_at_3550, \n",
    "    #                                                                                    center_acceptance_at_3550))\n",
    "    plt.savefig(\"figures/dither_diff_fiber_acceptance_9850_%s_%d_%s.png\"%(curr_desi_model_string, fiber_pos_seed, \n",
    "                                                                     append_name))\n",
    "    \n",
    "    print(\"Finished analysis for this configuration\")\n",
    "    print(\"You can continue with the next iteration\")\n",
    "    \n",
    "    # TODO: this function should return some values for further evaluation\n",
    "    #       besides plotting somethings"
   ]
  },
  {
   "cell_type": "code",
   "execution_count": 11,
   "metadata": {
    "scrolled": true
   },
   "outputs": [
    {
     "name": "stdout",
     "output_type": "stream",
     "text": [
      "Random numbers have been generated for fiber position\n",
      "Fiber positions have been assigned\n"
     ]
    }
   ],
   "source": [
    "iterations   = 20\n",
    "random_seeds = []\n",
    "focal_pos    = []\n",
    "for i in range(iterations):\n",
    "    # fiber positions\n",
    "    random_integer = np.random.randint(0, 1000)\n",
    "    focal_pos.append(generate_fiber_positions(num_source, isRandom=True, seed=random_integer))\n",
    "    random_seeds.append(random_integer)\n",
    "np.array(random_seeds)\n",
    "print(\"Random numbers have been generated for fiber position\")\n",
    "print(\"Fiber positions have been assigned\")"
   ]
  },
  {
   "cell_type": "code",
   "execution_count": null,
   "metadata": {
    "collapsed": true
   },
   "outputs": [],
   "source": [
    "# the source information will be used later on for the fiber loss calculation\n",
    "# using their expected spectrum\n",
    "qsos_round = []\n",
    "elgs_round = []\n",
    "lrgs_round = []\n",
    "qsos_elliptic = []\n",
    "elgs_elliptic = []\n",
    "lrgs_elliptic = []\n",
    "\n",
    "def generate_sources():\n",
    "    for i in range(20):\n",
    "        # Round sources are generated here\n",
    "        qsos_round.append(generate_source(1, 0., 0., seed=23+i))\n",
    "        elgs_round.append(generate_source(1, 1., 0., seed=23+i))\n",
    "        lrgs_round.append(generate_source(1, 0., 1., seed=23+i))\n",
    "        # elliptic objects are generated here\n",
    "        qsos_elliptic.append(generate_source(num_source, 0., 0., seed=1+i, minormajor=[0.4, 0.6]))\n",
    "        elgs_elliptic.append(generate_source(num_source, 1., 0., seed=1+i, minormajor=[0.4, 0.6]))\n",
    "        lrgs_elliptic.append(generate_source(num_source, 0., 1., seed=1+i, minormajor=[0.4, 0.6]))\n",
    "    print(\"round and elliptic sources has been generated\")"
   ]
  },
  {
   "cell_type": "code",
   "execution_count": 47,
   "metadata": {},
   "outputs": [
    {
     "name": "stdout",
     "output_type": "stream",
     "text": [
      "wavelength grid has been generated\n",
      "fiber position has been plotted\n",
      "fiber loss calculations finished\n",
      "arrays have been filled... Starting 2D histogram generation\n",
      "Finished analysis for this configuration\n",
      "You can continue with the next iteration\n"
     ]
    }
   ],
   "source": [
    "for i in range(1):\n",
    "    #run(random_seeds[i], *focal_pos[i], *qsos_round[0], append_name=\"source1\")\n",
    "    try:\n",
    "        run(random_seeds[i], *focal_pos[i], *qsos_round[0], append_name=\"roundsource1\")\n",
    "        #run(random_seeds[i], *focal_pos[i], *qsos_elliptic[0], append_name=\"ellipticsource1\")\n",
    "        #run(random_seeds[i], *focal_pos[i], *qsos_round[1], append_name=\"source2\")\n",
    "    except:\n",
    "        continue"
   ]
  },
  {
   "cell_type": "markdown",
   "metadata": {},
   "source": [
    "TODO:\n",
    "0. Fix the colorbar range to 0.5 - 0.7 for all plots\n",
    "1. Get the same plots without blur+offset, can do without offset but need to create a new blur file with no blur in it\n",
    "2. Get some histograms for the difference between center value and expected value for acceptance\n",
    "3. Get 2D histograms for the distance of the maximum acceptance wrt to the center value acceptance\n",
    "4. "
   ]
  },
  {
   "cell_type": "code",
   "execution_count": 17,
   "metadata": {},
   "outputs": [],
   "source": [
    "qsos_round = []\n",
    "for i in range(num_source):\n",
    "    qsos_round.append(generate_sources(1, 0., 0., seed=i))\n"
   ]
  },
  {
   "cell_type": "code",
   "execution_count": 36,
   "metadata": {},
   "outputs": [
    {
     "name": "stdout",
     "output_type": "stream",
     "text": [
      "[[ 0.33296477  0.3399997   0.36108438  0.38240008  0.39645283  0.40400347\n",
      "   0.40833648  0.41114392  0.41276425  0.41351677  0.41313685]]\n",
      "[[ 1.  0.]] [[ 0.45  1.  ]] [[ 0.4  0.6]] [[ 150.12792169  259.31681764]]\n",
      "[[ 0.33392319  0.34128283  0.36203148  0.38290594  0.3966609   0.40407496\n",
      "   0.40836827  0.41120453  0.4129334   0.41384312  0.41365561]]\n",
      "[[ 1.  0.]] [[ 0.45  1.  ]] [[ 0.4  0.6]] [[ 64.897088     7.01108694]]\n"
     ]
    }
   ],
   "source": [
    "qsos_elliptic = []\n",
    "elgs_elliptic = []\n",
    "lrgs_elliptic = []\n",
    "for i in range(20):\n",
    "    qsos_elliptic.append(generate_sources(num_source, 0., 0., seed=1+i, minormajor=[0.4, 0.6]))\n",
    "    elgs_elliptic.append(generate_sources(num_source, 1., 0., seed=1+i, minormajor=[0.4, 0.6]))\n",
    "    lrgs_elliptic.append(generate_sources(num_source, 0., 1., seed=1+i, minormajor=[0.4, 0.6]))\n",
    "\n",
    "wlen_grid = create_wlen_grid()\n",
    "seeing_fwhm = curr_desi_model.atmosphere.get_seeing_fwhm(wlen_grid).to(u.arcsec).value\n",
    "scale, blur, offset = curr_desi_model.instrument.get_focal_plane_optics(*focal_pos[0], wlen_grid)\n",
    "calc = calculateFiberLoss(wlen_grid, desi=curr_desi_model)\n",
    "print( calc.calculate(seeing_fwhm,\n",
    "                      scale.to(u.um / u.arcsec).value, offset.to(u.um).value,\n",
    "                      blur.to(u.um).value,\n",
    "                      *elgs_elliptic[0]) )\n",
    "print(*elgs_elliptic[0])\n",
    "print( calc.calculate(seeing_fwhm,\n",
    "                      scale.to(u.um / u.arcsec).value, offset.to(u.um).value,\n",
    "                      blur.to(u.um).value,\n",
    "                      *elgs_elliptic[1]) )\n",
    "print(*elgs_elliptic[10])"
   ]
  },
  {
   "cell_type": "code",
   "execution_count": null,
   "metadata": {
    "collapsed": true
   },
   "outputs": [],
   "source": []
  }
 ],
 "metadata": {
  "kernelspec": {
   "display_name": "Python 3",
   "language": "python",
   "name": "python3"
  },
  "language_info": {
   "codemirror_mode": {
    "name": "ipython",
    "version": 3
   },
   "file_extension": ".py",
   "mimetype": "text/x-python",
   "name": "python",
   "nbconvert_exporter": "python",
   "pygments_lexer": "ipython3",
   "version": "3.5.3"
  }
 },
 "nbformat": 4,
 "nbformat_minor": 2
}
