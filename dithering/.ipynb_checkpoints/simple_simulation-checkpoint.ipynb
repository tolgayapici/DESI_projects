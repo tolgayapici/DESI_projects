{
 "cells": [
  {
   "cell_type": "markdown",
   "metadata": {},
   "source": [
    "General DESI related packages"
   ]
  },
  {
   "cell_type": "code",
   "execution_count": 134,
   "metadata": {
    "collapsed": true
   },
   "outputs": [],
   "source": [
    "# general packages\n",
    "import os\n",
    "import numpy as np\n",
    "import matplotlib\n",
    "import matplotlib.pyplot as plt\n",
    "\n",
    "import specsim\n",
    "import specsim.quickspecsim as qspecsim\n",
    "import specsim.instrument as inst\n",
    "import specsim.source as src\n",
    "import specsim.config as conf\n",
    "import specsim.fiberloss as floss\n",
    "import specsim.observation as obs\n",
    "import specsim.simulator as sim\n",
    "import specsim.atmosphere as atm\n",
    "\n",
    "from desisim import io\n",
    "from desisim import obs\n",
    "\n",
    "import astropy.units as u\n",
    "import astropy.table\n",
    "\n",
    "from scipy.interpolate import interp1d\n",
    "from scipy.optimize import curve_fit"
   ]
  },
  {
   "cell_type": "code",
   "execution_count": 80,
   "metadata": {
    "collapsed": true
   },
   "outputs": [],
   "source": [
    "# Simple gaussian function\n",
    "def gaussian(x_values, N, mu, sigma):\n",
    "    return N*np.exp(-0.5*(x_values-mu)**2/sigma**2)"
   ]
  },
  {
   "cell_type": "code",
   "execution_count": 102,
   "metadata": {},
   "outputs": [],
   "source": [
    "# run the specsim.simulator with a configuration at \"model\"\n",
    "def desi_model(model):\n",
    "    return sim.Simulator(config_path+model+'.yaml')\n",
    "\n",
    "num_source   = 1\n",
    "DEBUG        = True\n",
    "desi_configs = ['desi-blur', 'desi-blur-offset', 'desi-blur-offset-scale', 'desi-blur-offset-scale-stochastic']\n",
    "config_path  = '/home/tyapici/Projects/DESI_projects/dithering/config/'\n",
    "desi_models  = {}\n",
    "\n",
    "# generate all relevant configurations for future use\n",
    "for config in desi_configs:\n",
    "    desi_models[config] = desi_model(config)\n",
    "\n",
    "# default model is set to desi+blur+offset\n",
    "curr_desi_model_string = 'desi-blur-offset'\n",
    "curr_desi_model = desi_models[curr_desi_model_string]\n",
    "\n",
    "# function to generate the wavelength values\n",
    "def create_wlen_grid(num_wlen=11, desi=curr_desi_model):\n",
    "    wavelength = desi.simulated['wavelength']\n",
    "    wlen_unit = wavelength.unit\n",
    "    return np.linspace(wavelength.data[0], wavelength.data[-1], num_wlen) * wlen_unit\n",
    "\n",
    "# function to generate mock sources\n",
    "def generate_source(nsrc=1, disk_fraction=1., bulge_fraction=0., vary='', seed=23, minormajor=[1,1]):\n",
    "    gen = np.random.RandomState(seed)\n",
    "    varied = vary.split(',')\n",
    "    source_fraction = np.tile([disk_fraction, bulge_fraction], (nsrc, 1))\n",
    "    source_half_light_radius = np.tile([0.45, 1.0], (nsrc, 1))\n",
    "    source_minor_major_axis_ratio = np.tile(minormajor, (nsrc, 1))\n",
    "    #if 'pa' in varied:\n",
    "    source_position_angle = 360. * gen.uniform(size=(nsrc, 2))\n",
    "    #else:\n",
    "    #    source_position_angle = np.tile([0., 0.], (nsrc, 1))\n",
    "    return source_fraction, source_half_light_radius, source_minor_major_axis_ratio, source_position_angle"
   ]
  },
  {
   "cell_type": "code",
   "execution_count": 3,
   "metadata": {
    "collapsed": true
   },
   "outputs": [],
   "source": [
    "# function to generate the positions of the fibers.\n",
    "# TODO: it is done with random positions, need to change with the actual positions\n",
    "def generate_fiber_positions(nfiber=5000, seed=13, desi=curr_desi_model, isRandom=True):\n",
    "    if isRandom:\n",
    "        gen = np.random.RandomState(seed)\n",
    "        focal_r = (np.sqrt(gen.uniform(size=nfiber)) * desi.instrument.field_radius)\n",
    "        phi = 2 * np.pi * gen.uniform(size=nfiber)\n",
    "    else:\n",
    "        # this part is broken. needs some fixing\n",
    "        gen = np.random.RandomState(seed)\n",
    "        focal_r = (np.sqrt(gen.uniform(0, 0.001, size=nfiber)) * desi.instrument.field_radius)\n",
    "        phi = 2 * np.pi * gen.uniform(size=nfiber)\n",
    "    return np.cos(phi) * focal_r, np.sin(phi) * focal_r"
   ]
  },
  {
   "cell_type": "code",
   "execution_count": 4,
   "metadata": {
    "collapsed": true
   },
   "outputs": [],
   "source": [
    "# function to plot the fiber positions nicely\n",
    "def plot_fiber_positions(focal_x, focal_y, save=None, desi=curr_desi_model, select=None):\n",
    "    plt.figure(figsize=(8, 8))\n",
    "    x, y = focal_x.to(u.mm).value, focal_y.to(u.mm).value\n",
    "    plt.plot(x, y, '.')\n",
    "    if select is not None:\n",
    "        plt.scatter(x[select], y[select], s=100)\n",
    "    r = 1.05 * desi.instrument.field_radius.to(u.mm).value\n",
    "    plt.xlim(-1.01 * r, +1.01 * r)\n",
    "    plt.ylim(-1.01 * r, +1.01 * r)\n",
    "    plt.gca().set_aspect('equal', 'datalim')\n",
    "    plt.gca().add_artist(plt.Circle((0, 0), r, color='r', fill=False))\n",
    "    plt.axis('off')\n",
    "    if save:\n",
    "        plt.savefig(save)\n",
    "    else:\n",
    "        plt.show()"
   ]
  },
  {
   "cell_type": "code",
   "execution_count": 5,
   "metadata": {
    "collapsed": true
   },
   "outputs": [],
   "source": [
    "def calculateFiberLoss(wlen_grid, desi=curr_desi_model):\n",
    "    calc = floss.GalsimFiberlossCalculator(desi.instrument.fiber_diameter.to(u.um).value,\n",
    "                                           wlen_grid.to(u.Angstrom).value,\n",
    "                                           num_pixels=16, oversampling=32, moffat_beta=3.5)\n",
    "    return calc"
   ]
  },
  {
   "cell_type": "code",
   "execution_count": 6,
   "metadata": {
    "collapsed": true
   },
   "outputs": [],
   "source": [
    "def get_fiberloss(source_fraction, source_half_light_radius, source_minor_major_axis_ratio,\n",
    "                  source_position_angle, x, y, wlen_grid, seeing=1.1*u.arcsec, desi=curr_desi_model):\n",
    "    # Subtract instrumental PSF.\n",
    "    #Jacoby = 0.219\n",
    "    #seeing = 2.35482 * np.sqrt((seeing.to(u.arcsec).value/2.35482) ** 2 - Jacoby**2) * u.arcsec\n",
    "    # Tabulate seeing.\n",
    "    #desi.atmosphere.seeing_fwhm_ref = seeing\n",
    "    seeing_fwhm = desi.atmosphere.get_seeing_fwhm(wlen_grid).to(u.arcsec).value\n",
    "    # Calculate optics.\n",
    "    # NOTE: TODO: may add dithering stuff here\n",
    "    \n",
    "    scale, blur, offset = desi.instrument.get_focal_plane_optics(x, y, wlen_grid)\n",
    "    # Do the fiberloss calculations.\n",
    "    calc = calculateFiberLoss(wlen_grid, desi=desi)\n",
    "    return calc.calculate(seeing_fwhm,\n",
    "                          scale.to(u.um / u.arcsec).value, offset.to(u.um).value,\n",
    "                          blur.to(u.um).value,\n",
    "                          source_fraction, source_half_light_radius,\n",
    "                          source_minor_major_axis_ratio, source_position_angle)\n",
    "    # there is something going wrong here with the source position angle\n",
    "    # no matter what it is, the plots look the same for different sources at different locations"
   ]
  },
  {
   "cell_type": "code",
   "execution_count": 7,
   "metadata": {
    "collapsed": true
   },
   "outputs": [],
   "source": [
    "def get_desimodel_fiberloss(obj_type='lrg'):\n",
    "    path = os.path.join(os.environ['DESIMODEL'], 'data', 'throughput',\n",
    "                        'fiberloss-{0}.dat'.format(obj_type))\n",
    "    t = astropy.table.Table.read(path, format='ascii', names=['wlen', 'accept'])\n",
    "    return t"
   ]
  },
  {
   "cell_type": "code",
   "execution_count": 8,
   "metadata": {
    "collapsed": true
   },
   "outputs": [],
   "source": [
    "def plot_fiberloss(floss, cmap_name='viridis', alpha=0.1, ylim=(None, None),\n",
    "                   desi=curr_desi_model, desimodel_type=None, save=None, overlay=False):\n",
    "    if not overlay:\n",
    "        plt.figure(figsize=(5, 4))\n",
    "    wlen = wlen_grid.value\n",
    "    rvalues = np.sqrt(focal_x ** 2 + focal_y ** 2)\n",
    "    norm = matplotlib.colors.Normalize(\n",
    "        vmin=0., vmax=desi.instrument.field_radius.to(u.mm).value)\n",
    "    sm = matplotlib.cm.ScalarMappable(norm=norm, cmap=plt.get_cmap(cmap_name))\n",
    "    for f, r in zip(floss, rvalues):\n",
    "        color = sm.to_rgba(r)\n",
    "        p = plt.plot(wlen, f, ls='-', c=color, alpha=0.2)\n",
    "    plt.plot(wlen, np.median(floss, axis=0), 'k-', lw=2, label='median')\n",
    "    if desimodel_type:\n",
    "        t = get_desimodel_fiberloss(desimodel_type)\n",
    "        plt.plot(t['wlen'], t['accept'], 'r--', lw=2, label='desimodel')\n",
    "    if not overlay:\n",
    "        plt.ylim(*ylim)\n",
    "        # Very useful trick from http://stackoverflow.com/posts/11558629/revisions\n",
    "        sm._A = []\n",
    "        plt.colorbar(sm).set_label('Radius [mm]')\n",
    "        plt.xlabel('Wavelength [Angstrom]')\n",
    "        plt.ylabel('Fiber accepetance fraction')\n",
    "        plt.xlim(wlen[0], wlen[-1])\n",
    "        plt.tight_layout()\n",
    "    if save:\n",
    "        plt.savefig(save)"
   ]
  },
  {
   "cell_type": "code",
   "execution_count": 9,
   "metadata": {
    "collapsed": true
   },
   "outputs": [],
   "source": [
    "def plot_one_fiberloss(floss, ix, iy, wlen_grid, cmap_name='viridis', alpha=0.1, ylim=(None, None),\n",
    "                       desi=curr_desi_model, desimodel_type=None, save=None, overlay=False):\n",
    "    wlen = wlen_grid.value\n",
    "    line_median, = plt.plot(wlen, np.median(floss, axis=0), 'k-', lw=2, label='dx=%d dy=%d'%(ix*5, iy*5), alpha=0.1)\n",
    "    return line_median"
   ]
  },
  {
   "cell_type": "code",
   "execution_count": 154,
   "metadata": {
    "collapsed": true
   },
   "outputs": [],
   "source": [
    "def run(fiber_pos_seed, focal_x, focal_y, source_fraction, source_half_light_radius, \n",
    "        source_minor_major_axis_ratio, source_position_angle, append_name):\n",
    "    # generate the wavelengths array\n",
    "    wlen_grid = create_wlen_grid()\n",
    "    print(\"wavelength grid has been generated\")\n",
    "    \n",
    "    # plot the position of fibers\n",
    "    # number of fibers needs to be equal to the number of sources\n",
    "    # currently, there is only one source (that makes it easy to run a test)\n",
    "    # TODO: make the whole script working for more than one fiber \n",
    "    if DEBUG:\n",
    "        plot_fiber_positions(focal_x, focal_y, save=\"figures/fiber_pos_%d.png\"%fiber_pos_seed)\n",
    "        print(\"fiber position has been plotted\")\n",
    "\n",
    "    desi = curr_desi_model\n",
    "    source_loss = get_fiberloss(source_fraction, source_half_light_radius, \n",
    "                                source_minor_major_axis_ratio,source_position_angle, \n",
    "                                focal_x, focal_y, wlen_grid, desi=desi)\n",
    "    print(\"fiber loss calculations finished\")\n",
    "    \n",
    "    x = []\n",
    "    y = []\n",
    "    acceptance_at_3550 = []\n",
    "    acceptance_at_6700 = []\n",
    "    acceptance_at_9850 = []\n",
    "    expected_acceptance_at_3550 = []\n",
    "    expected_acceptance_at_6700 = []\n",
    "    expectedacceptance_at_9850 = []\n",
    "    diff_acceptance_at_3550 = []\n",
    "    diff_acceptance_at_6700 = []\n",
    "    diff_acceptance_at_9850 = []\n",
    "    num_dither = 80\n",
    "    dither = np.linspace(-10, 10, num_dither)\n",
    "    plt.clf()\n",
    "    for ix in range(num_dither):\n",
    "        for iy in range(num_dither):\n",
    "            source_loss = get_fiberloss(source_fraction, source_half_light_radius, \n",
    "                                        source_minor_major_axis_ratio,source_position_angle, \n",
    "                                        focal_x+dither[ix]*5*u.mm, focal_y+dither[iy]*5.*u.mm, \n",
    "                                        wlen_grid, desi=desi)\n",
    "            x.append(dither[ix]*5)\n",
    "            y.append(dither[iy]*5)\n",
    "            acceptance_at_3550.append(np.array(source_loss).flatten()[0])\n",
    "            acceptance_at_6700.append(np.array(source_loss).flatten()[5])\n",
    "            acceptance_at_9850.append(np.array(source_loss).flatten()[-1])\n",
    "            if ix==0 and iy==0:\n",
    "                center_acceptance_at_3550 = np.array(source_loss).flatten()[0]\n",
    "                center_acceptance_at_6700 = np.array(source_loss).flatten()[5]\n",
    "                center_acceptance_at_9850 = np.array(source_loss).flatten()[-1]\n",
    "            l1 = plot_one_fiberloss(source_loss, ix, iy, \n",
    "                                    wlen_grid, ylim=(0.18, 0.68), desimodel_type='elg')\n",
    "    diff_acceptance_at_3550 = acceptance_at_3550 - center_acceptance_at_3550\n",
    "    diff_acceptance_at_6700 = acceptance_at_6700 - center_acceptance_at_6700\n",
    "    diff_acceptance_at_9850 = acceptance_at_9850 - center_acceptance_at_9850\n",
    "\n",
    "    t = get_desimodel_fiberloss('elg')\n",
    "    xs = np.array(t['wlen'])\n",
    "    ys = np.array(t['accept'])\n",
    "    model_acceptance_func = interp1d(xs, ys, fill_value='extrapolate')\n",
    "    expected_acceptance_at_3550 = model_acceptance_func(3550)\n",
    "    expected_acceptance_at_6700 = model_acceptance_func(6700)\n",
    "    expected_acceptance_at_9850 = model_acceptance_func(9850)\n",
    "    line_model, = plt.plot(t['wlen'], t['accept'], 'r--', lw=2, label='desimodel')\n",
    "    # TODO: depending on the source type the filenames here and after should be changed.\n",
    "    plt.savefig(\"figures/ugly_plot_%s_%d_%s.png\"%(curr_desi_model_string, fiber_pos_seed, append_name))\n",
    "    print(\"arrays have been filled... Starting 2D histogram generation\")\n",
    "    \n",
    "    plt.clf()\n",
    "    plt.hist2d(np.array(x), np.array(y), range=[[-50, 50], [-50, 50]], \n",
    "               bins=num_dither, weights=np.array(acceptance_at_3550), vmin=0.3, vmax=0.5)\n",
    "    max_acceptance_index = np.argmax(acceptance_at_3550)\n",
    "    max_x_point = x[max_acceptance_index]\n",
    "    max_y_point = y[max_acceptance_index]\n",
    "    max_acceptance = acceptance_at_3550[max_acceptance_index]\n",
    "    plt.plot(max_x_point, max_y_point, 's', fillstyle='full', c='black')\n",
    "    print(max_x_point, max_y_point)\n",
    "    plt.colorbar()\n",
    "    #plt.clim(0.3,0.5)\n",
    "    plt.xlabel(\"X [mm]\")\n",
    "    plt.ylabel(\"Y [mm]\")\n",
    "    plt.suptitle(\"Fiber Acceptance at 3550 A\\nExpected Acceptance %f\\nCenter Value %f\"%(expected_acceptance_at_3550, \n",
    "                                                                                        center_acceptance_at_3550))\n",
    "    plt.savefig(\"figures/dither_fiber_acceptance_3550_%s_%d_%s.png\"%(curr_desi_model_string, fiber_pos_seed, \n",
    "                                                                     append_name))\n",
    "    \n",
    "    plt.clf()\n",
    "    n, bins, patches = plt.hist(diff_acceptance_at_3550, normed=True)\n",
    "    bin_centers = bins[:-1] + 0.5 * (bins[1:] - bins[:-1])\n",
    "    fit_3550, pcov = curve_fit(gaussian, bin_centers, n, p0 = [1, 2, 1])\n",
    "    print(fit_3550)\n",
    "    plt.xlabel(\"Difference in Acceptance\")\n",
    "    #plt.suptitle(\"Fiber Acceptance at 3550 A\\nExpected Acceptance %f\\nCenter Value %f\"%(expected_acceptance_at_3550, \n",
    "    #                                                                                    center_acceptance_at_3550))\n",
    "    plt.savefig(\"figures/dither_diff_fiber_acceptance_3550_%s_%d_%s.png\"%(curr_desi_model_string, fiber_pos_seed, \n",
    "                                                                     append_name))\n",
    "    \n",
    "    plt.clf()\n",
    "    plt.hist2d(np.array(x), np.array(y), range=[[-50, 50], [-50, 50]], \n",
    "               bins=num_dither, weights=np.array(acceptance_at_6700), vmin=0.3, vmax=0.5)\n",
    "    plt.colorbar()\n",
    "    #plt.clim(0.3,0.5)\n",
    "    plt.xlabel(\"X [mm]\")\n",
    "    plt.ylabel(\"Y [mm]\")\n",
    "    plt.suptitle(\"Fiber Acceptance at 6700 A\\nExpected Acceptance %f\\nCenter Value %f\"%(expected_acceptance_at_6700, \n",
    "                                                                                        center_acceptance_at_6700))\n",
    "    plt.savefig(\"figures/dither_fiber_acceptance_6700_%s_%d_%s.png\"%(curr_desi_model_string, fiber_pos_seed, \n",
    "                                                                     append_name))\n",
    "    \n",
    "    plt.clf()\n",
    "    n, bins, patches = plt.hist(diff_acceptance_at_6700, normed=True)\n",
    "    bin_centers = bins[:-1] + 0.5 * (bins[1:] - bins[:-1])\n",
    "    fit_6700, pcov = curve_fit(gaussian, bin_centers, n, p0 = [1, 2, 1])\n",
    "    plt.xlabel(\"Difference in Acceptance\")\n",
    "    #plt.suptitle(\"Fiber Acceptance at 3550 A\\nExpected Acceptance %f\\nCenter Value %f\"%(expected_acceptance_at_3550, \n",
    "    #                                                                                    center_acceptance_at_3550))\n",
    "    plt.savefig(\"figures/dither_diff_fiber_acceptance_6700_%s_%d_%s.png\"%(curr_desi_model_string, fiber_pos_seed, \n",
    "                                                                     append_name))\n",
    "    \n",
    "    plt.clf()\n",
    "    plt.hist2d(np.array(x), np.array(y), range=[[-50, 50], [-50, 50]], \n",
    "               bins=num_dither, weights=np.array(acceptance_at_9850), vmin=0.3, vmax=0.5)\n",
    "    plt.colorbar()\n",
    "    #plt.clim(0.3,0.5)\n",
    "    plt.xlabel(\"X [mm]\")\n",
    "    plt.ylabel(\"Y [mm]\")\n",
    "    plt.suptitle(\"Fiber Acceptance at 9850 A\\nExpected Acceptance %f\\nCenter Value %f\"%(expected_acceptance_at_9850, \n",
    "                                                                                        center_acceptance_at_9850))\n",
    "    plt.savefig(\"figures/dither_fiber_acceptance_9850_%s_%d_%s.png\"%(curr_desi_model_string, fiber_pos_seed, \n",
    "                                                                     append_name))\n",
    "    \n",
    "    plt.clf()\n",
    "    n, bins, patches = plt.hist(diff_acceptance_at_9850, normed=True)\n",
    "    bin_centers = bins[:-1] + 0.5 * (bins[1:] - bins[:-1])\n",
    "    fit_9850, pcov = curve_fit(gaussian, bin_centers, n, p0 = [1, 2, 1])\n",
    "    plt.xlabel(\"Difference in Acceptance\")\n",
    "    #plt.suptitle(\"Fiber Acceptance at 3550 A\\nExpected Acceptance %f\\nCenter Value %f\"%(expected_acceptance_at_3550, \n",
    "    #                                                                                    center_acceptance_at_3550))\n",
    "    plt.savefig(\"figures/dither_diff_fiber_acceptance_9850_%s_%d_%s.png\"%(curr_desi_model_string, fiber_pos_seed, \n",
    "                                                                     append_name))\n",
    "    \n",
    "    print(\"Finished analysis for this configuration\")\n",
    "    print(\"You can continue with the next iteration\")\n",
    "\n",
    "    return fit_3550, fit_6700, fit_9850\n",
    "    # TODO: this function should return some values for further evaluation\n",
    "    #       besides plotting somethings"
   ]
  },
  {
   "cell_type": "code",
   "execution_count": 11,
   "metadata": {
    "scrolled": true
   },
   "outputs": [
    {
     "name": "stdout",
     "output_type": "stream",
     "text": [
      "Random numbers have been generated for fiber position\n",
      "Fiber positions have been assigned\n"
     ]
    }
   ],
   "source": [
    "iterations   = 20\n",
    "random_seeds = []\n",
    "focal_pos    = []\n",
    "for i in range(iterations):\n",
    "    # fiber positions\n",
    "    random_integer = np.random.randint(0, 1000)\n",
    "    focal_pos.append(generate_fiber_positions(num_source, isRandom=True, seed=random_integer))\n",
    "    random_seeds.append(random_integer)\n",
    "np.array(random_seeds)\n",
    "print(\"Random numbers have been generated for fiber position\")\n",
    "print(\"Fiber positions have been assigned\")"
   ]
  },
  {
   "cell_type": "code",
   "execution_count": 103,
   "metadata": {
    "collapsed": true
   },
   "outputs": [],
   "source": [
    "# the source information will be used later on for the fiber loss calculation\n",
    "# using their expected spectrum\n",
    "qsos_round = []\n",
    "elgs_round = []\n",
    "lrgs_round = []\n",
    "qsos_elliptic = []\n",
    "elgs_elliptic = []\n",
    "lrgs_elliptic = []\n",
    "\n",
    "def generate_sources():\n",
    "    for i in range(20):\n",
    "        # Round sources are generated here\n",
    "        qsos_round.append(generate_source(1, 0., 0., seed=23+i))\n",
    "        elgs_round.append(generate_source(1, 1., 0., seed=23+i))\n",
    "        lrgs_round.append(generate_source(1, 0., 1., seed=23+i))\n",
    "        # elliptic objects are generated here\n",
    "        qsos_elliptic.append(generate_source(num_source, 0., 0., seed=1+i, minormajor=[0.4, 0.6]))\n",
    "        elgs_elliptic.append(generate_source(num_source, 1., 0., seed=1+i, minormajor=[0.4, 0.6]))\n",
    "        lrgs_elliptic.append(generate_source(num_source, 0., 1., seed=1+i, minormajor=[0.4, 0.6]))\n",
    "    print(\"round and elliptic sources has been generated\")"
   ]
  },
  {
   "cell_type": "code",
   "execution_count": 148,
   "metadata": {},
   "outputs": [
    {
     "name": "stdout",
     "output_type": "stream",
     "text": [
      "round and elliptic sources has been generated\n",
      "wavelength grid has been generated\n",
      "fiber position has been plotted\n"
     ]
    },
    {
     "name": "stderr",
     "output_type": "stream",
     "text": [
      "/home/tyapici/anaconda/anaconda3/envs/desi/lib/python3.5/site-packages/matplotlib/pyplot.py:524: RuntimeWarning: More than 20 figures have been opened. Figures created through the pyplot interface (`matplotlib.pyplot.figure`) are retained until explicitly closed and may consume too much memory. (To control this warning, see the rcParam `figure.max_open_warning`).\n",
      "  max_open_warning, RuntimeWarning)\n"
     ]
    },
    {
     "name": "stdout",
     "output_type": "stream",
     "text": [
      "fiber loss calculations finished\n",
      "wavelength grid has been generated\n",
      "fiber position has been plotted\n",
      "fiber loss calculations finished\n",
      "arrays have been filled... Starting 2D histogram generation\n",
      "[  4.29931137e+01  -7.76315919e-03   8.94626940e-03]\n",
      "Finished analysis for this configuration\n",
      "You can continue with the next iteration\n",
      "wavelength grid has been generated\n",
      "fiber position has been plotted\n",
      "fiber loss calculations finished\n",
      "arrays have been filled... Starting 2D histogram generation\n",
      "[  4.86560224e+01   4.20300601e-02   1.44306500e-02]\n",
      "Finished analysis for this configuration\n",
      "You can continue with the next iteration\n",
      "wavelength grid has been generated\n",
      "fiber position has been plotted\n",
      "fiber loss calculations finished\n",
      "wavelength grid has been generated\n",
      "fiber position has been plotted\n",
      "fiber loss calculations finished\n",
      "arrays have been filled... Starting 2D histogram generation\n",
      "[  5.96617862e+01   5.85681854e-03   1.52202522e-02]\n",
      "Finished analysis for this configuration\n",
      "You can continue with the next iteration\n",
      "wavelength grid has been generated\n",
      "fiber position has been plotted\n",
      "fiber loss calculations finished\n",
      "wavelength grid has been generated\n",
      "fiber position has been plotted\n",
      "fiber loss calculations finished\n",
      "arrays have been filled... Starting 2D histogram generation\n",
      "[ 17.04182599  -0.0320176    0.02829128]\n",
      "Finished analysis for this configuration\n",
      "You can continue with the next iteration\n",
      "wavelength grid has been generated\n",
      "fiber position has been plotted\n",
      "fiber loss calculations finished\n",
      "wavelength grid has been generated\n",
      "fiber position has been plotted\n",
      "fiber loss calculations finished\n",
      "arrays have been filled... Starting 2D histogram generation\n",
      "[  3.57712378e+01   1.11405590e-02   1.12945156e-02]\n",
      "Finished analysis for this configuration\n",
      "You can continue with the next iteration\n",
      "wavelength grid has been generated\n",
      "fiber position has been plotted\n",
      "fiber loss calculations finished\n",
      "arrays have been filled... Starting 2D histogram generation\n",
      "[  7.27754860e+01  -1.63974432e-03   5.30012741e-03]\n",
      "Finished analysis for this configuration\n",
      "You can continue with the next iteration\n",
      "wavelength grid has been generated\n",
      "fiber position has been plotted\n",
      "fiber loss calculations finished\n",
      "wavelength grid has been generated\n",
      "fiber position has been plotted\n",
      "fiber loss calculations finished\n",
      "wavelength grid has been generated\n",
      "fiber position has been plotted\n",
      "fiber loss calculations finished\n",
      "arrays have been filled... Starting 2D histogram generation\n",
      "[  3.08814295e+01   9.02964631e-03   1.45690723e-02]\n",
      "Finished analysis for this configuration\n",
      "You can continue with the next iteration\n",
      "wavelength grid has been generated\n",
      "fiber position has been plotted\n",
      "fiber loss calculations finished\n",
      "arrays have been filled... Starting 2D histogram generation\n",
      "[  3.33744345e+01   9.07254464e-03   1.31492748e-02]\n",
      "Finished analysis for this configuration\n",
      "You can continue with the next iteration\n",
      "wavelength grid has been generated\n",
      "fiber position has been plotted\n",
      "fiber loss calculations finished\n",
      "arrays have been filled... Starting 2D histogram generation\n",
      "[  1.08936135e+02   1.33157949e-02   8.60330522e-03]\n",
      "Finished analysis for this configuration\n",
      "You can continue with the next iteration\n",
      "wavelength grid has been generated\n",
      "fiber position has been plotted\n",
      "fiber loss calculations finished\n",
      "wavelength grid has been generated\n",
      "fiber position has been plotted\n",
      "fiber loss calculations finished\n",
      "arrays have been filled... Starting 2D histogram generation\n",
      "[  2.86286870e+01  -1.63070609e-02   1.46704735e-02]\n",
      "Finished analysis for this configuration\n",
      "You can continue with the next iteration\n",
      "wavelength grid has been generated\n",
      "fiber position has been plotted\n",
      "fiber loss calculations finished\n",
      "arrays have been filled... Starting 2D histogram generation\n",
      "[  2.96339884e+01  -1.75761865e-02   1.38436152e-02]\n",
      "Finished analysis for this configuration\n",
      "You can continue with the next iteration\n",
      "wavelength grid has been generated\n",
      "fiber position has been plotted\n",
      "fiber loss calculations finished\n",
      "arrays have been filled... Starting 2D histogram generation\n",
      "[  1.12491035e+02  -4.98062467e-03   3.29574537e-03]\n",
      "Finished analysis for this configuration\n",
      "You can continue with the next iteration\n",
      "wavelength grid has been generated\n",
      "fiber position has been plotted\n",
      "fiber loss calculations finished\n",
      "arrays have been filled... Starting 2D histogram generation\n",
      "[  3.84575317e+01   1.57542052e-02   1.64505337e-02]\n",
      "Finished analysis for this configuration\n",
      "You can continue with the next iteration\n"
     ]
    }
   ],
   "source": [
    "means_3550 = []\n",
    "sigmas_3550 = []\n",
    "means_6700 = []\n",
    "sigmas_6700 = []\n",
    "means_9850 = []\n",
    "sigmas_9850 = []\n",
    "generate_sources()\n",
    "for i in range(40):\n",
    "    #run(random_seeds[i], *focal_pos[i], *qsos_round[0], append_name=\"source1\")\n",
    "    try:\n",
    "        fit_3550, fit_6700, fit_9850 = run(random_seeds[i], *focal_pos[i], *elgs_round[0], append_name=\"roundsource1\")\n",
    "        means_3550.append(fit_3550[1])\n",
    "        sigmas_3550.append(fit_3550[2])\n",
    "        means_6700.append(fit_6700[1])\n",
    "        sigmas_6700.append(fit_6700[2])\n",
    "        means_9850.append(fit_9850[1])\n",
    "        sigmas_9850.append(fit_9850[2])\n",
    "        #run(random_seeds[i], *focal_pos[i], *qsos_elliptic[0], append_name=\"ellipticsource1\")\n",
    "        #run(random_seeds[i], *focal_pos[i], *qsos_round[1], append_name=\"source2\")\n",
    "    except:\n",
    "        continue"
   ]
  },
  {
   "cell_type": "markdown",
   "metadata": {},
   "source": [
    "TODO:\n",
    "0. Fix the colorbar range to 0.5 - 0.7 for all plots\n",
    "1. Get the same plots without blur+offset, can do without offset but need to create a new blur file with no blur in it\n",
    "2. Get some histograms for the difference between center value and expected value for acceptance\n",
    "3. Get 2D histograms for the distance of the maximum acceptance wrt to the center value acceptance\n",
    "4. "
   ]
  },
  {
   "cell_type": "code",
   "execution_count": 149,
   "metadata": {},
   "outputs": [
    {
     "name": "stdout",
     "output_type": "stream",
     "text": [
      "[-0.0077631591924583136, 0.042030060140217707, 0.0058568185362201782, -0.032017599178148622, 0.011140558983499072, -0.0016397443248760074, 0.0090296463070498878, 0.0090725446445258789, 0.013315794899641669, -0.016307060853451884, -0.017576186501217235, -0.0049806246712478996, 0.015754205166551894]\n",
      "[0.0089462693975064823, 0.014430649965271734, 0.015220252172019061, 0.028291276602857959, 0.01129451557976594, 0.0053001274074832268, 0.014569072341545346, 0.013149274849507007, 0.0086033052232882806, 0.014670473539380233, 0.01384361516838979, 0.0032957453657819682, 0.016450533702106165]\n",
      "[-0.0011900081648562912, 0.021754436857033654, 0.0012842280472585485, -0.031884837630415296, 0.0049713764666737522, -0.0029150496600306532, 0.0018894289081899159, -0.013746209951046568, 0.010290444604109659, 0.032127941881584923, 0.0040322047679740439, 0.0091140906786216797, 0.024459779983656425]\n",
      "[0.0047961146017466904, 0.010740122807293388, 0.0088806938488769412, 0.011727568037175401, 0.006335799823882925, 0.010214700403901308, 0.012526875080737894, 0.0063021857378875489, 0.0044523475150384925, 0.0079372973975562564, 0.014994074557941443, 0.0047377009020862114, 0.018330782812892084]\n",
      "[-0.0050112683963137207, 0.010218669324547951, 0.0007699419907235143, -0.015840696112161354, 0.011969965296206791, 0.0083964376588821776, -0.013114385492115672, -0.027165506377215924, -0.0084539120953034952, 0.070959400512203535, 0.016136646497204414, 0.033050421660676614, 0.0053615456362514002]\n",
      "[0.011418810790787331, 0.0084486858558303034, 0.018100272931796918, -0.0093043770853897135, 0.021244931685093258, 0.0073915729240663867, 0.015451984397921874, -0.015062784660547293, 0.014529482402751285, 0.020983336057338701, 0.014656496692369396, 0.012992092996827223, 0.012255828837138596]\n"
     ]
    }
   ],
   "source": [
    "print(means_3550)\n",
    "print(sigmas_3550)\n",
    "print(means_6700)\n",
    "print(sigmas_6700)\n",
    "print(means_9850)\n",
    "print(sigmas_9850)"
   ]
  },
  {
   "cell_type": "code",
   "execution_count": null,
   "metadata": {
    "collapsed": true
   },
   "outputs": [],
   "source": [
    "# for QSOs\n",
    "means_3550 = [-0.010395638005998327, -0.0044418150059871856, 0.042288942254470309, \n",
    "              -0.037343488926452569, -0.0059620973456030128, -0.019052490326021732, \n",
    "              0.015443440621343736, 0.031969788320884818, 0.0114350933373691, \n",
    "              -0.0068143843600801095, 0.012895050779761412, 0.013228322073857176, \n",
    "              -0.031389378058726852, -0.027730742406406439, 0.0034375092916738379, \n",
    "              0.031003026522150368]\n",
    "sigmas_3550 = [-0.020650827830785722, 0.011901266500669163, 0.0091220767661444168, \n",
    "               0.018078989063770506, 0.021153118259555986, 0.040248455733460142, \n",
    "               0.016199097959653869, 0.015467248610351543, 0.016856296617522717, \n",
    "               0.023990449891582822, -0.018572367284546018, 0.015101292374272336, \n",
    "               0.023489700355241134, 0.020471742107117503, 0.0099638695138202348, \n",
    "               0.021516314732308472]\n",
    "means_6700 = [-0.010767017236393832, -0.010326416436239334, 0.014218686640893102, \n",
    "              -0.0033272111386804266, -0.0105499786600652, -0.028889821972155352, \n",
    "              0.0088351114255792503, 0.0057168979830585715, 0.016393466155246016, \n",
    "              -0.0064693983012076963, -0.01663920317162321, 0.015354233813305737, \n",
    "              0.02646621782435489, -0.0092062137550303104, 0.032306694306782714, \n",
    "              0.01575093805040122]\n",
    "sigmas_6700 = [0.01274344370178777, 0.006084697250740634, 0.015180867830402719,\n",
    "               0.020387841011439065, 0.0090390495442018836, 0.015002892783392414,\n",
    "               0.0062078400427639895, 0.012711415098144928, 0.022218410709557941, \n",
    "               0.011305983443566401, 0.010859030952657889, 0.01173675018852144, \n",
    "               0.0097210589924095724, 0.015771725160229705, 0.017038116718759266, \n",
    "               0.029880684125570676]\n",
    "means_9850 = [-0.0045083494123078901, -0.030345717791535401, 0.0016051483739873186, \n",
    "              0.0064822841415857896, -0.01433681815453121, 0.0061557282580469051, \n",
    "              0.031874298848586696, 0.031893163679302478, -0.00062763948738003372,\n",
    "              0.0063311882219369764, -0.035007895168588599, -0.0084598355419357955,\n",
    "              0.08011166954189558, 0.030884846259455371, 0.052627013659103321, \n",
    "              -0.0049720572141151572]\n",
    "sigmas_9850 = [0.013094233137922431, 0.018553765417442504, 0.0062773960975039435, \n",
    "               0.030683271423598689, 0.026516917064275881, 0.0099265601993625604, \n",
    "               -0.037808650750083786, -0.031515702399423223, 0.0092792966944822072,\n",
    "               -0.026406581933642731, 0.023571907544468685, 0.027757171948444279, \n",
    "               -0.029285423049904277, -0.032557820865123474, -0.034337369240109328, \n",
    "               -0.018919401736204829]\n",
    "# For ELGs\n",
    "means_3550 = [-0.0062342127007050984, -0.002646606803858025, 0.025085056181088826, \n",
    "              -0.022189569754249707, -0.003565098289268247, -0.011244492736765055, \n",
    "              0.0092452883866766915, 0.018932032591804166, 0.006843346199572351, \n",
    "              -0.0040288330003797846, 0.0077106404717838866, 0.0078049543059058642, \n",
    "              -0.018671825981948297, -0.016431054306350737, 0.0020438954093305673, \n",
    "              0.018393606345467734]\n",
    "sigmas_3550 = [0.012270242854885031, 0.0070298565520639598, 0.0054215454052337353, \n",
    "               0.01081258640612282, 0.01251673705963467, 0.023882757125382532, \n",
    "               0.0096306960544094607, 0.0091535547681713819, 0.010108465447804605, \n",
    "               0.014231542150127261, 0.01100313911041228, 0.0089338946494096141, \n",
    "               0.013996850263414703, 0.012046396231247676, 0.005911891642501413, \n",
    "               0.012770273588818755]\n",
    "means_6700 = [-0.0063996051106818578, -0.0061059523179986547, 0.0082626672693270654, \n",
    "              -0.0019408300869878799, -0.00630382071998684, -0.01709790944824844, \n",
    "              0.0052646263909839255, 0.0033640775197024469, 0.0096319228009017818, \n",
    "              -0.0038518605290728241, -0.0098671442860540828, 0.0091711432225299976, \n",
    "              0.015603694781891378, -0.0055322628853504722, 0.018808109527204346, \n",
    "              0.0088396732771221648]\n",
    "sigmas_6700 = [0.0074985798744119439, 0.0036053332949093956, 0.0089330590016139522, \n",
    "               0.011997418878794061, 0.005259801982562466, 0.0088531387837623553, \n",
    "               0.0036963907990332687, 0.0075429629075387389, 0.013120340575919027, \n",
    "               0.0067554602204495991, 0.0063707377363593914, 0.0070321126133987381,\n",
    "               0.0057555812177341797, 0.009326676671063459, 0.010010789856342411, \n",
    "               0.0175504430795131]\n",
    "means_9850 = [-0.0026628369283889963, -0.017913263534416135, 0.00097682219050968097, \n",
    "              0.0035615629686914277, -0.0083962334308584855, 0.0036527534351256273, \n",
    "              0.016986684518303687, 0.015042999928891274, -0.0003763198937926824, \n",
    "              0.003693015696380645, -0.020627380083861523, -0.0050169745195371429,\n",
    "              0.046775440281319969, 0.017780288572085624, 0.030612268340264953, \n",
    "              -0.0029685225927840431]\n",
    "sigmas_9850 = [0.0077200576437259187, 0.010866778970011336, 0.0036801305021275064, \n",
    "               0.017841148620940273, 0.015534261141639966, 0.0058401070893594823, \n",
    "               0.021356328610684479, 0.017340637873434688, 0.0054559080744855009,\n",
    "               0.015757823612688054, 0.013845463126661068, 0.016274373060781333, \n",
    "               0.017252590878455119, 0.019026216830816463, 0.020143188304681058, \n",
    "               0.011180829701820114]"
   ]
  },
  {
   "cell_type": "code",
   "execution_count": null,
   "metadata": {
    "collapsed": true
   },
   "outputs": [],
   "source": [
    "# QSOs with scale added\n",
    "means_3550 = [-0.016824552943210242, 0.077649012997555847, -0.046231976932765192, \n",
    "              0.018758130719063858, 0.013829567897939094, 0.017551559377388865, \n",
    "              0.016575971335177436, -0.029487351118051033, -0.029607646263971457, \n",
    "              0.002764746330104068, 0.080134631876821738]\n",
    "sigmas_3550 = [0.014291773959094136, 0.026360726530726984, 0.043548239528009652, \n",
    "               0.018458678940231166, 0.019657298850820681, 0.026711869829900856,\n",
    "               0.021267693913379074, -0.024861411733052122, 0.023265919475638108, \n",
    "               0.011383605579460995, 0.045897129717386534]\n",
    "means_6700 = [-0.0056306431254083255, 0.030028757939727552, -0.046137352490842602,\n",
    "              0.010005717044496482, -0.0011201934856359362, 0.037811145668928133, \n",
    "              -0.019534991191226037, 0.050911044707536254, 0.011887599073568624,\n",
    "              0.021043885121015005, 0.039413389529573205]\n",
    "sigmas_6700 = [0.0082189213542241592, 0.014628279924090196, 0.016612616334309164, \n",
    "               0.0088785473203755131, 0.014673102240023746, 0.033429658177870053,\n",
    "               0.0075610007410977292, 0.011555819514506897, 0.026080736475552244,\n",
    "               0.0090408896665554843, -0.030512414622655543]\n",
    "means_9850 = [-0.011883067941139294, 0.012329293933876013, -0.018229963382588466,\n",
    "              0.032777072352262147, 0.017462209572242308, -0.020148586243952746, \n",
    "              -0.041462094547034513, 0.11718975592898875, 0.03916195563768049,\n",
    "              0.061443712250295615, 0.0031703448575104249]\n",
    "sigmas_9850 = [0.019111190337732991, 0.0096074826010130298, 0.012613535427252656, \n",
    "               0.04017896160331591, -0.010728610361935856, -0.026234100329445367,\n",
    "               0.024478024205200094, 0.033890203523020905, -0.031981440298427699, \n",
    "               0.025275065657517762, -0.017710915525987237]\n",
    "# ELGs with scale added\n",
    "-"
   ]
  },
  {
   "cell_type": "markdown",
   "metadata": {
    "collapsed": true
   },
   "source": [
    "ELGs, coverage, 1 yr plan the strench on south galactic region. why not a region and study clustering, a simple simulation can help to understand this.\n",
    "exposure time <-> S/N ratio may need the output of the dithering work\n",
    "fiber assign needs to be deterministic but current one may cause problems\n",
    "what defines the 90% coverage by fiber assign? why?\n",
    "any of the survey topics need input from other WGs\n"
   ]
  },
  {
   "cell_type": "code",
   "execution_count": 127,
   "metadata": {},
   "outputs": [],
   "source": [
    "# default model is set to desi+blur+offset\n",
    "curr_desi_model_string = 'desi-blur-offset-scale'\n",
    "curr_desi_model = desi_models[curr_desi_model_string]"
   ]
  },
  {
   "cell_type": "code",
   "execution_count": 155,
   "metadata": {},
   "outputs": [
    {
     "name": "stdout",
     "output_type": "stream",
     "text": [
      "wavelength grid has been generated\n",
      "fiber position has been plotted\n",
      "fiber loss calculations finished\n"
     ]
    },
    {
     "name": "stderr",
     "output_type": "stream",
     "text": [
      "/home/tyapici/anaconda/anaconda3/envs/desi/lib/python3.5/site-packages/matplotlib/pyplot.py:524: RuntimeWarning: More than 20 figures have been opened. Figures created through the pyplot interface (`matplotlib.pyplot.figure`) are retained until explicitly closed and may consume too much memory. (To control this warning, see the rcParam `figure.max_open_warning`).\n",
      "  max_open_warning, RuntimeWarning)\n"
     ]
    },
    {
     "name": "stdout",
     "output_type": "stream",
     "text": [
      "arrays have been filled... Starting 2D histogram generation\n",
      "-8.22784810127 -48.7341772152\n",
      "[  4.29931137e+01  -7.76315919e-03   8.94626940e-03]\n",
      "Finished analysis for this configuration\n",
      "You can continue with the next iteration\n"
     ]
    },
    {
     "data": {
      "text/plain": [
       "(array([  4.29931137e+01,  -7.76315919e-03,   8.94626940e-03]),\n",
       " array([  8.33322690e+01,  -1.19000816e-03,   4.79611460e-03]),\n",
       " array([  3.47699242e+01,  -5.01126840e-03,   1.14188108e-02]))"
      ]
     },
     "execution_count": 155,
     "metadata": {},
     "output_type": "execute_result"
    }
   ],
   "source": [
    "run(random_seeds[1], *focal_pos[1], *elgs_round[0], append_name=\"source1\")"
   ]
  },
  {
   "cell_type": "code",
   "execution_count": 133,
   "metadata": {},
   "outputs": [
    {
     "data": {
      "text/plain": [
       "<module 'specsim.instrument' from '/home/tyapici/Projects/desi/code/specsim/specsim/instrument.py'>"
      ]
     },
     "execution_count": 133,
     "metadata": {},
     "output_type": "execute_result"
    }
   ],
   "source": [
    "import imp\n",
    "imp.reload(specsim.instrument)"
   ]
  },
  {
   "cell_type": "code",
   "execution_count": 150,
   "metadata": {
    "collapsed": true
   },
   "outputs": [],
   "source": [
    "plt.clf()"
   ]
  },
  {
   "cell_type": "code",
   "execution_count": null,
   "metadata": {
    "collapsed": true
   },
   "outputs": [],
   "source": []
  }
 ],
 "metadata": {
  "kernelspec": {
   "display_name": "Python 3",
   "language": "python",
   "name": "python3"
  },
  "language_info": {
   "codemirror_mode": {
    "name": "ipython",
    "version": 3
   },
   "file_extension": ".py",
   "mimetype": "text/x-python",
   "name": "python",
   "nbconvert_exporter": "python",
   "pygments_lexer": "ipython3",
   "version": "3.5.3"
  }
 },
 "nbformat": 4,
 "nbformat_minor": 2
}
