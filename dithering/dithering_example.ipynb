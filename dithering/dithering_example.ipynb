{
 "cells": [
  {
   "cell_type": "markdown",
   "metadata": {},
   "source": [
    "# Example notebook for dithering"
   ]
  },
  {
   "cell_type": "markdown",
   "metadata": {},
   "source": [
    "This notebook demostrates the dithering process for a given source.\n",
    "The script will probably be moved to a python project (out of the notebook) later."
   ]
  },
  {
   "cell_type": "code",
   "execution_count": 1,
   "metadata": {},
   "outputs": [
    {
     "name": "stdout",
     "output_type": "stream",
     "text": [
      "imports complete\n"
     ]
    }
   ],
   "source": [
    "# general packages\n",
    "import os\n",
    "import numpy as np\n",
    "import matplotlib\n",
    "import matplotlib.pyplot as plt\n",
    "\n",
    "import astropy.units as u\n",
    "import astropy.table\n",
    "\n",
    "# specsim (DESI related packages)\n",
    "import specsim\n",
    "import specsim.quickspecsim as qspecsim\n",
    "import specsim.instrument as inst\n",
    "import specsim.source as src\n",
    "import specsim.config as conf\n",
    "import specsim.fiberloss as floss\n",
    "import specsim.observation as obs\n",
    "import specsim.simulator as sim\n",
    "import specsim.atmosphere as atm\n",
    "\n",
    "print('imports complete')"
   ]
  },
  {
   "cell_type": "code",
   "execution_count": 2,
   "metadata": {},
   "outputs": [
    {
     "name": "stdout",
     "output_type": "stream",
     "text": [
      "desi-like model created\n"
     ]
    }
   ],
   "source": [
    "# Create a simulator object using the given configuration\n",
    "desi = sim.Simulator('/home/tyapici/Projects/DESI_projects/dithering/config/desi-blur.yaml')\n",
    "print('desi-like model created')"
   ]
  },
  {
   "cell_type": "code",
   "execution_count": 69,
   "metadata": {},
   "outputs": [],
   "source": [
    "# function to generate the wavelength values\n",
    "def create_wlen_grid(num_wlen=40, desi=desi):\n",
    "    wavelength = desi.simulated['wavelength']\n",
    "    wlen_unit = wavelength.unit\n",
    "    return np.linspace(wavelength.data[0], wavelength.data[-1], num_wlen) * wlen_unit\n",
    "\n",
    "# function to generate a single source\n",
    "def generate_source(disk_fraction=0., bulge_fraction=0., vary='', seed=23, minormajor=[1,1]):\n",
    "    gen = np.random.RandomState(seed)\n",
    "    varied = vary.split(',')\n",
    "    source_fraction = np.tile([disk_fraction, bulge_fraction], (1, 1))\n",
    "    source_half_light_radius = np.tile([0.45, 1.0], (1, 1))\n",
    "    source_minor_major_axis_ratio = np.tile(minormajor, (1, 1))\n",
    "    if 'pa' in varied:\n",
    "        source_position_angle = 360. * gen.uniform(size=(1, 2))\n",
    "    else:\n",
    "        source_position_angle = np.tile([0., 0.], (1, 1))\n",
    "    return source_fraction, source_half_light_radius, source_minor_major_axis_ratio, source_position_angle\n",
    "\n",
    "# function to create the object with galsim parameters\n",
    "def calculateFiberLoss(wlen_grid, fiber_placement, desi=desi):\n",
    "    calc = floss.GalsimFiberlossCalculator(desi.instrument.fiber_diameter.to(u.um).value,\n",
    "                                           wlen_grid.to(u.Angstrom).value,\n",
    "                                           num_pixels=16, oversampling=32, moffat_beta=3.5,\n",
    "                                           fiber_placement=fiber_placement)\n",
    "    return calc\n",
    "\n",
    "def get_desimodel_fiberloss(obj_type='lrg'):\n",
    "    path = os.path.join(os.environ['DESIMODEL'], 'data', 'throughput',\n",
    "                        'fiberloss-{0}.dat'.format(obj_type))\n",
    "    t = astropy.table.Table.read(path, format='ascii', names=['wlen', 'accept'])\n",
    "    return t\n",
    "\n",
    "def get_fiberloss(source_fraction, source_half_light_radius, source_minor_major_axis_ratio,\n",
    "                  source_position_angle, x, y, calc, seeing=1.1*u.arcsec, desi=desi):\n",
    "    # Subtract instrumental PSF.\n",
    "    Jacoby = 0.219\n",
    "    seeing = 2.35482 * np.sqrt((seeing.to(u.arcsec).value/2.35482) ** 2 - Jacoby**2) * u.arcsec\n",
    "    # Tabulate seeing.\n",
    "    desi.atmosphere.seeing_fwhm_ref = seeing\n",
    "    seeing_fwhm = desi.atmosphere.get_seeing_fwhm(wlen_grid).to(u.arcsec).value\n",
    "    # Calculate optics.\n",
    "    scale, blur, offset = desi.instrument.get_focal_plane_optics(x, y, wlen_grid)\n",
    "    # Do the fiberloss calculations.\n",
    "    return calc.calculate(\n",
    "        seeing_fwhm,\n",
    "        scale.to(u.um / u.arcsec).value, offset.to(u.um).value,\n",
    "        blur.to(u.um).value,\n",
    "        source_fraction, source_half_light_radius,\n",
    "        source_minor_major_axis_ratio, source_position_angle)\n",
    "\n",
    "def generate_fiber_positions(nfiber=5000, seed=123, desi=desi):\n",
    "    gen = np.random.RandomState(seed)\n",
    "    focal_r = (\n",
    "        np.sqrt(gen.uniform(size=nfiber)) * desi.instrument.field_radius)\n",
    "    phi = 2 * np.pi * gen.uniform(size=nfiber)\n",
    "    return np.cos(phi) * focal_r, np.sin(phi) * focal_r"
   ]
  },
  {
   "cell_type": "code",
   "execution_count": 70,
   "metadata": {},
   "outputs": [],
   "source": [
    "# some constants\n",
    "num_pixels = 32\n",
    "oversampling = 32\n",
    "wlen_grid = create_wlen_grid()\n",
    "focal_x, focal_y = generate_fiber_positions(1)\n",
    "source = generate_source()"
   ]
  },
  {
   "cell_type": "code",
   "execution_count": 78,
   "metadata": {},
   "outputs": [
    {
     "data": {
      "image/png": "[encoded data removed]",
      "text/plain": [
       "<matplotlib.figure.Figure at 0x7feac1c512e8>"
      ]
     },
     "metadata": {},
     "output_type": "display_data"
    }
   ],
   "source": [
    "# first put the fiber in the middle with no dithering\n",
    "GalsimCalculator = calculateFiberLoss(wlen_grid, [0., 0.], desi)\n",
    "fiber_loss = get_fiberloss(*source, focal_x, focal_y, GalsimCalculator, desi=desi)\n",
    "plt.plot(wlen_grid, fiber_loss.flatten(), label=\"$\\Delta$x=0 um\")\n",
    "# then start moving the fiber until all the fiber is out\n",
    "# we only move the fiber in x-direction here in increments of 15 um\n",
    "for i in range(15, 120, 15):\n",
    "    GalsimCalculator = calculateFiberLoss(wlen_grid, [i, 0], desi)\n",
    "    fiber_loss = get_fiberloss(*source, focal_x, focal_y, GalsimCalculator, desi=desi)\n",
    "    plt.plot(wlen_grid, fiber_loss.flatten(), label=\"$\\Delta$x=%d um\"%i)\n",
    "plt.legend(loc='center left', bbox_to_anchor=(1, 0.5))\n",
    "plt.xlabel(\"Wavelength\")\n",
    "plt.ylabel(\"Acceptance\")\n",
    "plt.show()"
   ]
  }
 ],
 "metadata": {
  "kernelspec": {
   "display_name": "Python 3",
   "language": "python",
   "name": "python3"
  },
  "language_info": {
   "codemirror_mode": {
    "name": "ipython",
    "version": 3
   },
   "file_extension": ".py",
   "mimetype": "text/x-python",
   "name": "python",
   "nbconvert_exporter": "python",
   "pygments_lexer": "ipython3",
   "version": "3.5.3"
  }
 },
 "nbformat": 4,
 "nbformat_minor": 2
}
